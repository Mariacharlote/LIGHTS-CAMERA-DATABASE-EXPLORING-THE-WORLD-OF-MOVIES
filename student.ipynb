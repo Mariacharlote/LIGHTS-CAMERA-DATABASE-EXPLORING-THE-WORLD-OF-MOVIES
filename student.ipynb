{
 "cells": [
  {
   "cell_type": "markdown",
   "metadata": {},
   "source": [
    "## Final Project Submission\n",
    "\n",
    "Please fill out:\n",
    "* Student name: MARIACHARLOTE MBIYU \n",
    "* Student pace: Part time\n",
    "* Scheduled project review date/time: 17.04.2022\n",
    "* Instructor name: Noah Kandie \n",
    "* Blog post URL:\n"
   ]
  },
  {
   "cell_type": "markdown",
   "metadata": {},
   "source": [
    "# INTRODUCTION: \n",
    "\n",
    "## Project Overview \n",
    "\n",
    "Microsoft would like to engage in creating original video content and maximize on the benefits that its competitors and peers are currently enjoying. \n",
    "However, they have little insider information on movie creation.\n",
    "\n",
    "In their quest to create a new movie studio, we are tasked to identify the types of films currently at the Box office and their overal performance. \n",
    "This will include identifying other factors that may affect the performance of the different films.\n",
    "\n",
    "This findings should result into actionable insights that can support Microsoft's management in making informed decisions on the kind of film to concentrate their financial and human resources on.\n",
    "\n",
    "To begin this project, the first step is to gain a comprehensive understanding of both the data and the business requirements. This involves acquiring and analyzing data relevant to the project and identifying the business objectives and desired outcomes. Through this process, the researcher can establish a solid foundation and clear direction for the remainder of the project.\n",
    "\n",
    "  \n"
   ]
  },
  {
   "cell_type": "markdown",
   "metadata": {},
   "source": [
    "## Data Source and Data Understanding \n",
    "\n",
    "In order to work on this project, we acquired data from different movie databases as highlighted below : \n",
    "\n",
    "1. Box Office MojoLinks to an external site.\n",
    "2. Rotten TomatoesLinks to an external site.\n",
    "3. TheMovieDBLinks to an external site.\n",
    "4. The NumbersLinks to an external site.\n",
    "\n",
    "The data can be found in a folder called zippedata which is part of this submission. The data is contained in five seperate files as listed below:\n",
    "\n",
    "1. bom.movie_gross.csv.gz. : Each record shows the gross sales per movie which is categorised as domestic and global gross\n",
    "\n",
    "2. rt.movie_info.tsv.gz : Each record represents standard movie information. ie movie id synopsis, rating, genre,director, box office, runtime, studio.\n",
    "\n",
    "3. rt.reviews.tsv.gz: Each record contains reviews and ratings for the movies and the publishers of the reviews.\n",
    "\n",
    "4. tmdb.movies.csv.gz: Each record represents general information about the movies original language, title, genre ids, id, release date.\n",
    "\n",
    "5. tn.movie_budgets.csv.gz : The file contains the production budget and gross sales per movie with additional supporting data\n"
   ]
  },
  {
   "cell_type": "markdown",
   "metadata": {},
   "source": [
    "## Business Problem Understanding \n",
    "The business problem (s) that the project would like to answer are listed below :\n",
    "\n",
    "1.What are the most popular genres of movies and what is the average runtime for popular movies?\n",
    "\n",
    "2.What is the relationship between a movie's production budget and the revenue made?\n",
    "\n",
    "3.How do movie ratings and reviews impact : \n",
    "\n",
    "    a) Revenue and is there a certain threshold of ratings/reviews that is associated with higher box office success?\n",
    "    b) Is there any correlation between production budget and ratings?\n"
   ]
  },
  {
   "cell_type": "markdown",
   "metadata": {},
   "source": [
    "## Step 1: Intial Insights of the data\n",
    "\n",
    "An initial examination of the raw datasets can provide valuable insights that help us in comprehending the data that we will be working with. This examination can also assist us in determining the best approach for structuring the datasets we have. \n",
    "\n",
    "For this project, we require to import the necessary python tools in order to access the data and view it.\n",
    "\n",
    "This stage give us the opportunity to decide what information will be necessary for our analysis."
   ]
  },
  {
   "cell_type": "code",
   "execution_count": 94,
   "metadata": {},
   "outputs": [],
   "source": [
    "#Import pandas,csv,numoy,gzip,\n",
    "import pandas as pd\n",
    "import gzip \n",
    "import csv\n",
    "import numpy as np\n"
   ]
  },
  {
   "cell_type": "markdown",
   "metadata": {},
   "source": [
    "## Movies DataFrame "
   ]
  },
  {
   "cell_type": "code",
   "execution_count": 95,
   "metadata": {},
   "outputs": [
    {
     "data": {
      "text/html": [
       "<div>\n",
       "<style scoped>\n",
       "    .dataframe tbody tr th:only-of-type {\n",
       "        vertical-align: middle;\n",
       "    }\n",
       "\n",
       "    .dataframe tbody tr th {\n",
       "        vertical-align: top;\n",
       "    }\n",
       "\n",
       "    .dataframe thead th {\n",
       "        text-align: right;\n",
       "    }\n",
       "</style>\n",
       "<table border=\"1\" class=\"dataframe\">\n",
       "  <thead>\n",
       "    <tr style=\"text-align: right;\">\n",
       "      <th></th>\n",
       "      <th>Unnamed: 0</th>\n",
       "      <th>genre_ids</th>\n",
       "      <th>id</th>\n",
       "      <th>original_language</th>\n",
       "      <th>original_title</th>\n",
       "      <th>popularity</th>\n",
       "      <th>release_date</th>\n",
       "      <th>title</th>\n",
       "      <th>vote_average</th>\n",
       "      <th>vote_count</th>\n",
       "    </tr>\n",
       "  </thead>\n",
       "  <tbody>\n",
       "    <tr>\n",
       "      <th>0</th>\n",
       "      <td>0</td>\n",
       "      <td>[12, 14, 10751]</td>\n",
       "      <td>12444</td>\n",
       "      <td>en</td>\n",
       "      <td>Harry Potter and the Deathly Hallows: Part 1</td>\n",
       "      <td>33.53</td>\n",
       "      <td>2010-11-19</td>\n",
       "      <td>Harry Potter and the Deathly Hallows: Part 1</td>\n",
       "      <td>7.70</td>\n",
       "      <td>10788</td>\n",
       "    </tr>\n",
       "    <tr>\n",
       "      <th>1</th>\n",
       "      <td>1</td>\n",
       "      <td>[14, 12, 16, 10751]</td>\n",
       "      <td>10191</td>\n",
       "      <td>en</td>\n",
       "      <td>How to Train Your Dragon</td>\n",
       "      <td>28.73</td>\n",
       "      <td>2010-03-26</td>\n",
       "      <td>How to Train Your Dragon</td>\n",
       "      <td>7.70</td>\n",
       "      <td>7610</td>\n",
       "    </tr>\n",
       "  </tbody>\n",
       "</table>\n",
       "</div>"
      ],
      "text/plain": [
       "   Unnamed: 0            genre_ids     id original_language  \\\n",
       "0           0      [12, 14, 10751]  12444                en   \n",
       "1           1  [14, 12, 16, 10751]  10191                en   \n",
       "\n",
       "                                 original_title  popularity release_date  \\\n",
       "0  Harry Potter and the Deathly Hallows: Part 1       33.53   2010-11-19   \n",
       "1                      How to Train Your Dragon       28.73   2010-03-26   \n",
       "\n",
       "                                          title  vote_average  vote_count  \n",
       "0  Harry Potter and the Deathly Hallows: Part 1          7.70       10788  \n",
       "1                      How to Train Your Dragon          7.70        7610  "
      ]
     },
     "execution_count": 95,
     "metadata": {},
     "output_type": "execute_result"
    }
   ],
   "source": [
    "#create dataframe to represent the csv file\n",
    "#Then view 2 lines on the dataframe(df) header\n",
    "df_movies = pd.read_csv('tmdb.movies.csv.gz', compression = \"gzip\")\n",
    "df_movies.head(2)"
   ]
  },
  {
   "cell_type": "code",
   "execution_count": 96,
   "metadata": {},
   "outputs": [
    {
     "data": {
      "text/html": [
       "<div>\n",
       "<style scoped>\n",
       "    .dataframe tbody tr th:only-of-type {\n",
       "        vertical-align: middle;\n",
       "    }\n",
       "\n",
       "    .dataframe tbody tr th {\n",
       "        vertical-align: top;\n",
       "    }\n",
       "\n",
       "    .dataframe thead th {\n",
       "        text-align: right;\n",
       "    }\n",
       "</style>\n",
       "<table border=\"1\" class=\"dataframe\">\n",
       "  <thead>\n",
       "    <tr style=\"text-align: right;\">\n",
       "      <th></th>\n",
       "      <th>Unnamed: 0</th>\n",
       "      <th>genre_ids</th>\n",
       "      <th>id</th>\n",
       "      <th>original_language</th>\n",
       "      <th>original_title</th>\n",
       "      <th>popularity</th>\n",
       "      <th>release_date</th>\n",
       "      <th>title</th>\n",
       "      <th>vote_average</th>\n",
       "      <th>vote_count</th>\n",
       "    </tr>\n",
       "  </thead>\n",
       "  <tbody>\n",
       "    <tr>\n",
       "      <th>26515</th>\n",
       "      <td>26515</td>\n",
       "      <td>[10751, 12, 28]</td>\n",
       "      <td>366854</td>\n",
       "      <td>en</td>\n",
       "      <td>Trailer Made</td>\n",
       "      <td>0.60</td>\n",
       "      <td>2018-06-22</td>\n",
       "      <td>Trailer Made</td>\n",
       "      <td>0.00</td>\n",
       "      <td>1</td>\n",
       "    </tr>\n",
       "    <tr>\n",
       "      <th>26516</th>\n",
       "      <td>26516</td>\n",
       "      <td>[53, 27]</td>\n",
       "      <td>309885</td>\n",
       "      <td>en</td>\n",
       "      <td>The Church</td>\n",
       "      <td>0.60</td>\n",
       "      <td>2018-10-05</td>\n",
       "      <td>The Church</td>\n",
       "      <td>0.00</td>\n",
       "      <td>1</td>\n",
       "    </tr>\n",
       "  </tbody>\n",
       "</table>\n",
       "</div>"
      ],
      "text/plain": [
       "       Unnamed: 0        genre_ids      id original_language original_title  \\\n",
       "26515       26515  [10751, 12, 28]  366854                en   Trailer Made   \n",
       "26516       26516         [53, 27]  309885                en     The Church   \n",
       "\n",
       "       popularity release_date         title  vote_average  vote_count  \n",
       "26515        0.60   2018-06-22  Trailer Made          0.00           1  \n",
       "26516        0.60   2018-10-05    The Church          0.00           1  "
      ]
     },
     "execution_count": 96,
     "metadata": {},
     "output_type": "execute_result"
    }
   ],
   "source": [
    "# view 2 lines on the dataframe(df) tail\n",
    "df_movies.tail(2)"
   ]
  },
  {
   "cell_type": "code",
   "execution_count": 97,
   "metadata": {},
   "outputs": [
    {
     "name": "stdout",
     "output_type": "stream",
     "text": [
      "<class 'pandas.core.frame.DataFrame'>\n",
      "RangeIndex: 26517 entries, 0 to 26516\n",
      "Data columns (total 10 columns):\n",
      " #   Column             Non-Null Count  Dtype  \n",
      "---  ------             --------------  -----  \n",
      " 0   Unnamed: 0         26517 non-null  int64  \n",
      " 1   genre_ids          26517 non-null  object \n",
      " 2   id                 26517 non-null  int64  \n",
      " 3   original_language  26517 non-null  object \n",
      " 4   original_title     26517 non-null  object \n",
      " 5   popularity         26517 non-null  float64\n",
      " 6   release_date       26517 non-null  object \n",
      " 7   title              26517 non-null  object \n",
      " 8   vote_average       26517 non-null  float64\n",
      " 9   vote_count         26517 non-null  int64  \n",
      "dtypes: float64(2), int64(3), object(5)\n",
      "memory usage: 2.0+ MB\n"
     ]
    }
   ],
   "source": [
    "#print information about the DataFrame\n",
    "df_movies.info()"
   ]
  },
  {
   "cell_type": "markdown",
   "metadata": {},
   "source": [
    "## Movie_info DataFrame "
   ]
  },
  {
   "cell_type": "code",
   "execution_count": 98,
   "metadata": {},
   "outputs": [
    {
     "data": {
      "text/html": [
       "<div>\n",
       "<style scoped>\n",
       "    .dataframe tbody tr th:only-of-type {\n",
       "        vertical-align: middle;\n",
       "    }\n",
       "\n",
       "    .dataframe tbody tr th {\n",
       "        vertical-align: top;\n",
       "    }\n",
       "\n",
       "    .dataframe thead th {\n",
       "        text-align: right;\n",
       "    }\n",
       "</style>\n",
       "<table border=\"1\" class=\"dataframe\">\n",
       "  <thead>\n",
       "    <tr style=\"text-align: right;\">\n",
       "      <th></th>\n",
       "      <th>id</th>\n",
       "      <th>synopsis</th>\n",
       "      <th>rating</th>\n",
       "      <th>genre</th>\n",
       "      <th>director</th>\n",
       "      <th>writer</th>\n",
       "      <th>theater_date</th>\n",
       "      <th>dvd_date</th>\n",
       "      <th>currency</th>\n",
       "      <th>box_office</th>\n",
       "      <th>runtime</th>\n",
       "      <th>studio</th>\n",
       "    </tr>\n",
       "  </thead>\n",
       "  <tbody>\n",
       "    <tr>\n",
       "      <th>0</th>\n",
       "      <td>1</td>\n",
       "      <td>This gritty, fast-paced, and innovative police...</td>\n",
       "      <td>R</td>\n",
       "      <td>Action and Adventure|Classics|Drama</td>\n",
       "      <td>William Friedkin</td>\n",
       "      <td>Ernest Tidyman</td>\n",
       "      <td>Oct 9, 1971</td>\n",
       "      <td>Sep 25, 2001</td>\n",
       "      <td>NaN</td>\n",
       "      <td>NaN</td>\n",
       "      <td>104 minutes</td>\n",
       "      <td>NaN</td>\n",
       "    </tr>\n",
       "    <tr>\n",
       "      <th>1</th>\n",
       "      <td>3</td>\n",
       "      <td>New York City, not-too-distant-future: Eric Pa...</td>\n",
       "      <td>R</td>\n",
       "      <td>Drama|Science Fiction and Fantasy</td>\n",
       "      <td>David Cronenberg</td>\n",
       "      <td>David Cronenberg|Don DeLillo</td>\n",
       "      <td>Aug 17, 2012</td>\n",
       "      <td>Jan 1, 2013</td>\n",
       "      <td>$</td>\n",
       "      <td>600,000</td>\n",
       "      <td>108 minutes</td>\n",
       "      <td>Entertainment One</td>\n",
       "    </tr>\n",
       "  </tbody>\n",
       "</table>\n",
       "</div>"
      ],
      "text/plain": [
       "   id                                           synopsis rating  \\\n",
       "0   1  This gritty, fast-paced, and innovative police...      R   \n",
       "1   3  New York City, not-too-distant-future: Eric Pa...      R   \n",
       "\n",
       "                                 genre          director  \\\n",
       "0  Action and Adventure|Classics|Drama  William Friedkin   \n",
       "1    Drama|Science Fiction and Fantasy  David Cronenberg   \n",
       "\n",
       "                         writer  theater_date      dvd_date currency  \\\n",
       "0                Ernest Tidyman   Oct 9, 1971  Sep 25, 2001      NaN   \n",
       "1  David Cronenberg|Don DeLillo  Aug 17, 2012   Jan 1, 2013        $   \n",
       "\n",
       "  box_office      runtime             studio  \n",
       "0        NaN  104 minutes                NaN  \n",
       "1    600,000  108 minutes  Entertainment One  "
      ]
     },
     "execution_count": 98,
     "metadata": {},
     "output_type": "execute_result"
    }
   ],
   "source": [
    "#create dataframe to represent the tsv file\n",
    "#view 2 lines on the dataframe(df) header\n",
    "df_movie_info = pd.read_csv('rt.movie_info.tsv.gz', delimiter='\\t', compression='gzip')\n",
    "df_movie_info.head(2)"
   ]
  },
  {
   "cell_type": "code",
   "execution_count": 99,
   "metadata": {},
   "outputs": [
    {
     "name": "stdout",
     "output_type": "stream",
     "text": [
      "<class 'pandas.core.frame.DataFrame'>\n",
      "RangeIndex: 1560 entries, 0 to 1559\n",
      "Data columns (total 12 columns):\n",
      " #   Column        Non-Null Count  Dtype \n",
      "---  ------        --------------  ----- \n",
      " 0   id            1560 non-null   int64 \n",
      " 1   synopsis      1498 non-null   object\n",
      " 2   rating        1557 non-null   object\n",
      " 3   genre         1552 non-null   object\n",
      " 4   director      1361 non-null   object\n",
      " 5   writer        1111 non-null   object\n",
      " 6   theater_date  1201 non-null   object\n",
      " 7   dvd_date      1201 non-null   object\n",
      " 8   currency      340 non-null    object\n",
      " 9   box_office    340 non-null    object\n",
      " 10  runtime       1530 non-null   object\n",
      " 11  studio        494 non-null    object\n",
      "dtypes: int64(1), object(11)\n",
      "memory usage: 146.4+ KB\n"
     ]
    }
   ],
   "source": [
    "#print summary information about the DataFrame\n",
    "df_movie_info.info()"
   ]
  },
  {
   "cell_type": "markdown",
   "metadata": {},
   "source": [
    "## Budgets DataFrame "
   ]
  },
  {
   "cell_type": "code",
   "execution_count": 100,
   "metadata": {},
   "outputs": [
    {
     "data": {
      "text/html": [
       "<div>\n",
       "<style scoped>\n",
       "    .dataframe tbody tr th:only-of-type {\n",
       "        vertical-align: middle;\n",
       "    }\n",
       "\n",
       "    .dataframe tbody tr th {\n",
       "        vertical-align: top;\n",
       "    }\n",
       "\n",
       "    .dataframe thead th {\n",
       "        text-align: right;\n",
       "    }\n",
       "</style>\n",
       "<table border=\"1\" class=\"dataframe\">\n",
       "  <thead>\n",
       "    <tr style=\"text-align: right;\">\n",
       "      <th></th>\n",
       "      <th>id</th>\n",
       "      <th>release_date</th>\n",
       "      <th>movie</th>\n",
       "      <th>production_budget</th>\n",
       "      <th>domestic_gross</th>\n",
       "      <th>worldwide_gross</th>\n",
       "    </tr>\n",
       "  </thead>\n",
       "  <tbody>\n",
       "    <tr>\n",
       "      <th>0</th>\n",
       "      <td>1</td>\n",
       "      <td>Dec 18, 2009</td>\n",
       "      <td>Avatar</td>\n",
       "      <td>$425,000,000</td>\n",
       "      <td>$760,507,625</td>\n",
       "      <td>$2,776,345,279</td>\n",
       "    </tr>\n",
       "    <tr>\n",
       "      <th>1</th>\n",
       "      <td>2</td>\n",
       "      <td>May 20, 2011</td>\n",
       "      <td>Pirates of the Caribbean: On Stranger Tides</td>\n",
       "      <td>$410,600,000</td>\n",
       "      <td>$241,063,875</td>\n",
       "      <td>$1,045,663,875</td>\n",
       "    </tr>\n",
       "  </tbody>\n",
       "</table>\n",
       "</div>"
      ],
      "text/plain": [
       "   id  release_date                                        movie  \\\n",
       "0   1  Dec 18, 2009                                       Avatar   \n",
       "1   2  May 20, 2011  Pirates of the Caribbean: On Stranger Tides   \n",
       "\n",
       "  production_budget domestic_gross worldwide_gross  \n",
       "0      $425,000,000   $760,507,625  $2,776,345,279  \n",
       "1      $410,600,000   $241,063,875  $1,045,663,875  "
      ]
     },
     "execution_count": 100,
     "metadata": {},
     "output_type": "execute_result"
    }
   ],
   "source": [
    "#create dataframe to represent the csv file\n",
    "#view 2 lines on the dataframe(df) header\n",
    "df_budgets = pd.read_csv('tn.movie_budgets.csv.gz', compression = \"gzip\")\n",
    "df_budgets.head(2)"
   ]
  },
  {
   "cell_type": "code",
   "execution_count": 101,
   "metadata": {},
   "outputs": [
    {
     "name": "stdout",
     "output_type": "stream",
     "text": [
      "<class 'pandas.core.frame.DataFrame'>\n",
      "RangeIndex: 5782 entries, 0 to 5781\n",
      "Data columns (total 6 columns):\n",
      " #   Column             Non-Null Count  Dtype \n",
      "---  ------             --------------  ----- \n",
      " 0   id                 5782 non-null   int64 \n",
      " 1   release_date       5782 non-null   object\n",
      " 2   movie              5782 non-null   object\n",
      " 3   production_budget  5782 non-null   object\n",
      " 4   domestic_gross     5782 non-null   object\n",
      " 5   worldwide_gross    5782 non-null   object\n",
      "dtypes: int64(1), object(5)\n",
      "memory usage: 271.2+ KB\n"
     ]
    }
   ],
   "source": [
    "#print information about the DataFrame\n",
    "df_budgets.info()"
   ]
  },
  {
   "cell_type": "markdown",
   "metadata": {},
   "source": [
    "## Movie_gross DataFrame "
   ]
  },
  {
   "cell_type": "code",
   "execution_count": 102,
   "metadata": {},
   "outputs": [
    {
     "data": {
      "text/html": [
       "<div>\n",
       "<style scoped>\n",
       "    .dataframe tbody tr th:only-of-type {\n",
       "        vertical-align: middle;\n",
       "    }\n",
       "\n",
       "    .dataframe tbody tr th {\n",
       "        vertical-align: top;\n",
       "    }\n",
       "\n",
       "    .dataframe thead th {\n",
       "        text-align: right;\n",
       "    }\n",
       "</style>\n",
       "<table border=\"1\" class=\"dataframe\">\n",
       "  <thead>\n",
       "    <tr style=\"text-align: right;\">\n",
       "      <th></th>\n",
       "      <th>title</th>\n",
       "      <th>studio</th>\n",
       "      <th>domestic_gross</th>\n",
       "      <th>foreign_gross</th>\n",
       "      <th>year</th>\n",
       "    </tr>\n",
       "  </thead>\n",
       "  <tbody>\n",
       "    <tr>\n",
       "      <th>0</th>\n",
       "      <td>Toy Story 3</td>\n",
       "      <td>BV</td>\n",
       "      <td>415000000.00</td>\n",
       "      <td>652000000</td>\n",
       "      <td>2010</td>\n",
       "    </tr>\n",
       "    <tr>\n",
       "      <th>1</th>\n",
       "      <td>Alice in Wonderland (2010)</td>\n",
       "      <td>BV</td>\n",
       "      <td>334200000.00</td>\n",
       "      <td>691300000</td>\n",
       "      <td>2010</td>\n",
       "    </tr>\n",
       "  </tbody>\n",
       "</table>\n",
       "</div>"
      ],
      "text/plain": [
       "                        title studio  domestic_gross foreign_gross  year\n",
       "0                 Toy Story 3     BV    415000000.00     652000000  2010\n",
       "1  Alice in Wonderland (2010)     BV    334200000.00     691300000  2010"
      ]
     },
     "execution_count": 102,
     "metadata": {},
     "output_type": "execute_result"
    }
   ],
   "source": [
    "#create dataframe to represent the csv file\n",
    "#view 2 lines on the dataframe(df) header\n",
    "df_movie_gross = pd.read_csv('bom.movie_gross.csv.gz', compression = \"gzip\")\n",
    "df_movie_gross.head(2)"
   ]
  },
  {
   "cell_type": "code",
   "execution_count": 103,
   "metadata": {},
   "outputs": [
    {
     "name": "stdout",
     "output_type": "stream",
     "text": [
      "<class 'pandas.core.frame.DataFrame'>\n",
      "RangeIndex: 3387 entries, 0 to 3386\n",
      "Data columns (total 5 columns):\n",
      " #   Column          Non-Null Count  Dtype  \n",
      "---  ------          --------------  -----  \n",
      " 0   title           3387 non-null   object \n",
      " 1   studio          3382 non-null   object \n",
      " 2   domestic_gross  3359 non-null   float64\n",
      " 3   foreign_gross   2037 non-null   object \n",
      " 4   year            3387 non-null   int64  \n",
      "dtypes: float64(1), int64(1), object(3)\n",
      "memory usage: 132.4+ KB\n"
     ]
    }
   ],
   "source": [
    "#print summary information about the DataFrame\n",
    "df_movie_gross.info()"
   ]
  },
  {
   "cell_type": "markdown",
   "metadata": {},
   "source": [
    "## Reviews DataFrame "
   ]
  },
  {
   "cell_type": "code",
   "execution_count": 104,
   "metadata": {},
   "outputs": [
    {
     "data": {
      "text/html": [
       "<div>\n",
       "<style scoped>\n",
       "    .dataframe tbody tr th:only-of-type {\n",
       "        vertical-align: middle;\n",
       "    }\n",
       "\n",
       "    .dataframe tbody tr th {\n",
       "        vertical-align: top;\n",
       "    }\n",
       "\n",
       "    .dataframe thead th {\n",
       "        text-align: right;\n",
       "    }\n",
       "</style>\n",
       "<table border=\"1\" class=\"dataframe\">\n",
       "  <thead>\n",
       "    <tr style=\"text-align: right;\">\n",
       "      <th></th>\n",
       "      <th>id</th>\n",
       "      <th>review</th>\n",
       "      <th>rating</th>\n",
       "      <th>fresh</th>\n",
       "      <th>critic</th>\n",
       "      <th>top_critic</th>\n",
       "      <th>publisher</th>\n",
       "      <th>date</th>\n",
       "    </tr>\n",
       "  </thead>\n",
       "  <tbody>\n",
       "    <tr>\n",
       "      <th>0</th>\n",
       "      <td>3</td>\n",
       "      <td>A distinctly gallows take on contemporary fina...</td>\n",
       "      <td>3/5</td>\n",
       "      <td>fresh</td>\n",
       "      <td>PJ Nabarro</td>\n",
       "      <td>0</td>\n",
       "      <td>Patrick Nabarro</td>\n",
       "      <td>November 10, 2018</td>\n",
       "    </tr>\n",
       "    <tr>\n",
       "      <th>1</th>\n",
       "      <td>3</td>\n",
       "      <td>It's an allegory in search of a meaning that n...</td>\n",
       "      <td>NaN</td>\n",
       "      <td>rotten</td>\n",
       "      <td>Annalee Newitz</td>\n",
       "      <td>0</td>\n",
       "      <td>io9.com</td>\n",
       "      <td>May 23, 2018</td>\n",
       "    </tr>\n",
       "  </tbody>\n",
       "</table>\n",
       "</div>"
      ],
      "text/plain": [
       "   id                                             review rating   fresh  \\\n",
       "0   3  A distinctly gallows take on contemporary fina...    3/5   fresh   \n",
       "1   3  It's an allegory in search of a meaning that n...    NaN  rotten   \n",
       "\n",
       "           critic  top_critic        publisher               date  \n",
       "0      PJ Nabarro           0  Patrick Nabarro  November 10, 2018  \n",
       "1  Annalee Newitz           0          io9.com       May 23, 2018  "
      ]
     },
     "execution_count": 104,
     "metadata": {},
     "output_type": "execute_result"
    }
   ],
   "source": [
    "#create dataframe to represent the tsv file\n",
    "#view 2 lines on the dataframe(df) header\n",
    "df_reviews = pd.read_csv('rt.reviews.tsv.gz', delimiter='\\t', compression='gzip',encoding='latin1')\n",
    "df_reviews.head(2)"
   ]
  },
  {
   "cell_type": "code",
   "execution_count": 105,
   "metadata": {},
   "outputs": [
    {
     "name": "stdout",
     "output_type": "stream",
     "text": [
      "<class 'pandas.core.frame.DataFrame'>\n",
      "RangeIndex: 54432 entries, 0 to 54431\n",
      "Data columns (total 8 columns):\n",
      " #   Column      Non-Null Count  Dtype \n",
      "---  ------      --------------  ----- \n",
      " 0   id          54432 non-null  int64 \n",
      " 1   review      48869 non-null  object\n",
      " 2   rating      40915 non-null  object\n",
      " 3   fresh       54432 non-null  object\n",
      " 4   critic      51710 non-null  object\n",
      " 5   top_critic  54432 non-null  int64 \n",
      " 6   publisher   54123 non-null  object\n",
      " 7   date        54432 non-null  object\n",
      "dtypes: int64(2), object(6)\n",
      "memory usage: 3.3+ MB\n"
     ]
    }
   ],
   "source": [
    "#print summary information about the DataFrame\n",
    "df_reviews.info()"
   ]
  },
  {
   "cell_type": "markdown",
   "metadata": {},
   "source": [
    "An intial view of the data helps us conclude that we have sufficient information to work on our questions. "
   ]
  },
  {
   "cell_type": "markdown",
   "metadata": {},
   "source": [
    "## Step 2: Data Cleaning and Preparation\n",
    "\n",
    "From our previous step, we created dataframes in order to view the data in a tabular format and we identified the information inside the files.\n",
    "\n",
    "In order to answer the business problems highlighted ealier, the information needed to answer this questions is held in different files. \n",
    "\n",
    "We will look into each file, clean and prepare it in readiness for our analysis to enable to derive as much insights as possible. \n"
   ]
  },
  {
   "cell_type": "markdown",
   "metadata": {},
   "source": [
    "## Cleaning data for Question 1\n",
    "    Section a) What are the most popular genres of movies?\n",
    "    Section b) what is the average runtime for popular movies?\n",
    "\n",
    "For this section we prepare the df_movie_info dataframe.\n"
   ]
  },
  {
   "cell_type": "code",
   "execution_count": 106,
   "metadata": {},
   "outputs": [
    {
     "data": {
      "text/html": [
       "<div>\n",
       "<style scoped>\n",
       "    .dataframe tbody tr th:only-of-type {\n",
       "        vertical-align: middle;\n",
       "    }\n",
       "\n",
       "    .dataframe tbody tr th {\n",
       "        vertical-align: top;\n",
       "    }\n",
       "\n",
       "    .dataframe thead th {\n",
       "        text-align: right;\n",
       "    }\n",
       "</style>\n",
       "<table border=\"1\" class=\"dataframe\">\n",
       "  <thead>\n",
       "    <tr style=\"text-align: right;\">\n",
       "      <th></th>\n",
       "      <th>id</th>\n",
       "      <th>synopsis</th>\n",
       "      <th>rating</th>\n",
       "      <th>genre</th>\n",
       "      <th>director</th>\n",
       "      <th>writer</th>\n",
       "      <th>theater_date</th>\n",
       "      <th>dvd_date</th>\n",
       "      <th>currency</th>\n",
       "      <th>box_office</th>\n",
       "      <th>runtime</th>\n",
       "      <th>studio</th>\n",
       "    </tr>\n",
       "  </thead>\n",
       "  <tbody>\n",
       "    <tr>\n",
       "      <th>0</th>\n",
       "      <td>1</td>\n",
       "      <td>This gritty, fast-paced, and innovative police...</td>\n",
       "      <td>R</td>\n",
       "      <td>Action and Adventure|Classics|Drama</td>\n",
       "      <td>William Friedkin</td>\n",
       "      <td>Ernest Tidyman</td>\n",
       "      <td>Oct 9, 1971</td>\n",
       "      <td>Sep 25, 2001</td>\n",
       "      <td>NaN</td>\n",
       "      <td>NaN</td>\n",
       "      <td>104 minutes</td>\n",
       "      <td>NaN</td>\n",
       "    </tr>\n",
       "    <tr>\n",
       "      <th>1</th>\n",
       "      <td>3</td>\n",
       "      <td>New York City, not-too-distant-future: Eric Pa...</td>\n",
       "      <td>R</td>\n",
       "      <td>Drama|Science Fiction and Fantasy</td>\n",
       "      <td>David Cronenberg</td>\n",
       "      <td>David Cronenberg|Don DeLillo</td>\n",
       "      <td>Aug 17, 2012</td>\n",
       "      <td>Jan 1, 2013</td>\n",
       "      <td>$</td>\n",
       "      <td>600,000</td>\n",
       "      <td>108 minutes</td>\n",
       "      <td>Entertainment One</td>\n",
       "    </tr>\n",
       "  </tbody>\n",
       "</table>\n",
       "</div>"
      ],
      "text/plain": [
       "   id                                           synopsis rating  \\\n",
       "0   1  This gritty, fast-paced, and innovative police...      R   \n",
       "1   3  New York City, not-too-distant-future: Eric Pa...      R   \n",
       "\n",
       "                                 genre          director  \\\n",
       "0  Action and Adventure|Classics|Drama  William Friedkin   \n",
       "1    Drama|Science Fiction and Fantasy  David Cronenberg   \n",
       "\n",
       "                         writer  theater_date      dvd_date currency  \\\n",
       "0                Ernest Tidyman   Oct 9, 1971  Sep 25, 2001      NaN   \n",
       "1  David Cronenberg|Don DeLillo  Aug 17, 2012   Jan 1, 2013        $   \n",
       "\n",
       "  box_office      runtime             studio  \n",
       "0        NaN  104 minutes                NaN  \n",
       "1    600,000  108 minutes  Entertainment One  "
      ]
     },
     "execution_count": 106,
     "metadata": {},
     "output_type": "execute_result"
    }
   ],
   "source": [
    "#view 2 lines on the dataframe(df) header \n",
    "df_movie_info.head(2)"
   ]
  },
  {
   "cell_type": "code",
   "execution_count": 107,
   "metadata": {
    "scrolled": true
   },
   "outputs": [
    {
     "name": "stdout",
     "output_type": "stream",
     "text": [
      "<class 'pandas.core.frame.DataFrame'>\n",
      "RangeIndex: 1560 entries, 0 to 1559\n",
      "Data columns (total 12 columns):\n",
      " #   Column        Non-Null Count  Dtype \n",
      "---  ------        --------------  ----- \n",
      " 0   id            1560 non-null   int64 \n",
      " 1   synopsis      1498 non-null   object\n",
      " 2   rating        1557 non-null   object\n",
      " 3   genre         1552 non-null   object\n",
      " 4   director      1361 non-null   object\n",
      " 5   writer        1111 non-null   object\n",
      " 6   theater_date  1201 non-null   object\n",
      " 7   dvd_date      1201 non-null   object\n",
      " 8   currency      340 non-null    object\n",
      " 9   box_office    340 non-null    object\n",
      " 10  runtime       1530 non-null   object\n",
      " 11  studio        494 non-null    object\n",
      "dtypes: int64(1), object(11)\n",
      "memory usage: 146.4+ KB\n"
     ]
    }
   ],
   "source": [
    "#display summary of the pandas df\n",
    "df_movie_info.info()"
   ]
  },
  {
   "cell_type": "markdown",
   "metadata": {},
   "source": [
    "#### Short Explanation on the Data\n",
    "\n",
    "- This is a Pandas DataFrame with 1560 rows and 12 columns. \n",
    "- The data types are 1 Interger and 11 Objects.\n",
    "- Missing Values can be identified by taking number of entries minus the Non-Null count per column.\n",
    "\n",
    "The columns are:\n",
    "* id: an integer column with a unique identifier for each row.\n",
    "* synopsis: an object column with a brief summary or description of the movie. This column has 62 missing values.\n",
    "* rating: an object column with the rating of the movie. This column has 3 missing values.\n",
    "* genre: an object column with the genre of the movie. This column has 8 missing values.\n",
    "* director: an object column with the name of the director of the movie. This column has 199 missing values.\n",
    "* writer: an object column with the name of the writer of the movie. This column has 449 missing values.\n",
    "* theater_date: an object column with the date when the movie was released in theaters. This column has 359 missing values.\n",
    "* dvd_date: an object column with the date when the movie was released on DVD. This column has 359 missing values.\n",
    "* currency: an object column with the currency in which the box office revenue is reported. This column has 1220 missing values.\n",
    "* box_office: an object column with the box office revenue of the movie. This column has 1220 missing values.\n",
    "* runtime: an object column with the duration of the movie in minutes. This column has 30 missing values.\n",
    "* studio: an object column with the name of the studio that produced the movie. This column has 1066 missing values.\n",
    "\n",
    " The memory usage of the DataFrame is 146.4 KB."
   ]
  },
  {
   "cell_type": "markdown",
   "metadata": {},
   "source": [
    "#### The Cleaning process\n",
    "\n",
    "Most of the columns have missing values. \n",
    "\n",
    "We thus need to clean the data in such a way not to lose valuable entries but also to avoid creating noise in the data set.\n",
    "\n",
    "To clean the data we can start with:\n",
    "1. Identify the NAN(Not a Number) /missing values.\n",
    "2. Drop columns and rows as necessary. \n",
    "3. Check for duplicates on the unique column 'id' and dropping them if necessary.\n",
    "4. Convert 'theater_date' and 'dvd_date' columns to datetime objects \n",
    "5. Replace missing values using fillna()with a default date to enable us to maintain the data \n",
    "5. Remove any non numeric characters on runtime and convert into an interger\n"
   ]
  },
  {
   "cell_type": "code",
   "execution_count": 108,
   "metadata": {},
   "outputs": [
    {
     "data": {
      "text/plain": [
       "id              0.00\n",
       "synopsis        3.97\n",
       "rating          0.19\n",
       "genre           0.51\n",
       "director       12.76\n",
       "writer         28.78\n",
       "theater_date   23.01\n",
       "dvd_date       23.01\n",
       "currency       78.21\n",
       "box_office     78.21\n",
       "runtime         1.92\n",
       "studio         68.33\n",
       "dtype: float64"
      ]
     },
     "execution_count": 108,
     "metadata": {},
     "output_type": "execute_result"
    }
   ],
   "source": [
    "#Identify the percentage of NAN values\n",
    "df_movie_info.isna().mean(numeric_only = True)*100\n"
   ]
  },
  {
   "cell_type": "markdown",
   "metadata": {},
   "source": [
    "#### Dealing with duplicates and dropping columns\n",
    "From the above isna results, we can confidently drop 3 columns (currency, box office and studio)\n",
    "They have the highest amounts of NANs which can not be prefilled either with a mean, median or standard deviation.\n",
    "\n",
    "We then identify if our data has duplicates on the unique column id."
   ]
  },
  {
   "cell_type": "code",
   "execution_count": 109,
   "metadata": {},
   "outputs": [
    {
     "data": {
      "text/plain": [
       "Index(['id', 'synopsis', 'rating', 'genre', 'director', 'writer',\n",
       "       'theater_date', 'dvd_date', 'runtime'],\n",
       "      dtype='object')"
      ]
     },
     "execution_count": 109,
     "metadata": {},
     "output_type": "execute_result"
    }
   ],
   "source": [
    "# Remove unnecessary columns due to high value of NANs\n",
    "df_movie_modified = df_movie_info.drop(['currency', 'box_office', 'studio'], axis=1)\n",
    "df_movie_modified.columns"
   ]
  },
  {
   "cell_type": "code",
   "execution_count": 110,
   "metadata": {},
   "outputs": [
    {
     "data": {
      "text/plain": [
       "0"
      ]
     },
     "execution_count": 110,
     "metadata": {},
     "output_type": "execute_result"
    }
   ],
   "source": [
    "#Identify if the id column has duplicates\n",
    "#No duplicates identified\n",
    "df_movie_modified.id.duplicated().sum()"
   ]
  },
  {
   "cell_type": "markdown",
   "metadata": {},
   "source": [
    "#### Dealing with missing values \n",
    "\n",
    "In our new modified dataframe we have 9 columns remaining. \n",
    "Lets view the other columns with NAN values and either decide to prefill or drop the rows.\n",
    "\n",
    "The synopsis, rating, genre and runtime columns have less than 3% worth of rows with NANs. We can drop this rows as the fields can not be prefilled due to the nature of the data required as the information is specific to the movie.\n",
    "\n",
    "To avoid losing 28% & 12% of our rows, it is  good practice to use a placeholder value like \"unknown\" to fill missing values in categorical columns like \"director\" and \"writer\".\n",
    "\n",
    "It's clear that the data is missing and using unknown will will not introduce bias into the analysis."
   ]
  },
  {
   "cell_type": "code",
   "execution_count": 111,
   "metadata": {},
   "outputs": [],
   "source": [
    "# drop the rows with missing data which is less than 3% per column\n",
    "df_movie_modified = df_movie_modified.dropna(subset =['synopsis','rating','genre','runtime'])"
   ]
  },
  {
   "cell_type": "code",
   "execution_count": 112,
   "metadata": {},
   "outputs": [],
   "source": [
    "# Fill missing values with 'unknown'\n",
    "# To modify specific columns, we utilise .loc indexer to select the columns because we have 2 columns before using fillna()\n",
    "# we assign the modified slice back to the original DataFrame using .loc\n",
    "df_movie_modified.loc[:, ['director','writer']]= df_movie_modified.loc[:, ['director', 'writer']].fillna('unknown')"
   ]
  },
  {
   "cell_type": "code",
   "execution_count": 113,
   "metadata": {},
   "outputs": [
    {
     "data": {
      "text/plain": [
       "id              0.00\n",
       "synopsis        0.00\n",
       "rating          0.00\n",
       "genre           0.00\n",
       "director        0.00\n",
       "writer          0.00\n",
       "theater_date   19.64\n",
       "dvd_date       19.64\n",
       "runtime         0.00\n",
       "dtype: float64"
      ]
     },
     "execution_count": 113,
     "metadata": {},
     "output_type": "execute_result"
    }
   ],
   "source": [
    "#Reconfirm if we have any missing values \n",
    "df_movie_modified.isna().mean(numeric_only = True)*100"
   ]
  },
  {
   "cell_type": "markdown",
   "metadata": {},
   "source": [
    "#### Dealing with date values\n",
    "Our last 2 columns with NAN values are date related: theater_date and dvd date.\n",
    "The first entry date looks like this Oct 9, 1971\t\n",
    "We first convert the date strings to datetime objects using pd.to_datetime()\n",
    "Then replace the missing values using .fillna()\n"
   ]
  },
  {
   "cell_type": "code",
   "execution_count": 114,
   "metadata": {},
   "outputs": [],
   "source": [
    "# convert 'theater_date' and 'dvd_date' columns to datetime objects\n",
    "df_movie_modified['theater_date'] = pd.to_datetime(df_movie_modified['theater_date'])\n",
    "df_movie_modified['dvd_date'] = pd.to_datetime(df_movie_modified['dvd_date'])\n",
    "\n",
    "# replace missing values with default date (January 1, 1900 in this example)\n",
    "default_date = pd.to_datetime('1900-01-01')\n",
    "df_movie_modified['theater_date'].fillna(default_date, inplace=True)\n",
    "df_movie_modified['dvd_date'].fillna(default_date, inplace=True)"
   ]
  },
  {
   "cell_type": "code",
   "execution_count": 115,
   "metadata": {},
   "outputs": [
    {
     "data": {
      "text/plain": [
       "id             0.00\n",
       "synopsis       0.00\n",
       "rating         0.00\n",
       "genre          0.00\n",
       "director       0.00\n",
       "writer         0.00\n",
       "theater_date   0.00\n",
       "dvd_date       0.00\n",
       "runtime        0.00\n",
       "dtype: float64"
      ]
     },
     "execution_count": 115,
     "metadata": {},
     "output_type": "execute_result"
    }
   ],
   "source": [
    "#Review if we have any pending NAN values \n",
    "df_movie_modified.isna().mean(numeric_only = True)*100"
   ]
  },
  {
   "cell_type": "markdown",
   "metadata": {},
   "source": [
    "#### Dealing with unwanted characters"
   ]
  },
  {
   "cell_type": "code",
   "execution_count": 116,
   "metadata": {},
   "outputs": [],
   "source": [
    "#runtime is data type Object meaning it contains text data\n",
    "#Steps to clean it ,remove any non numeric characters/ symbols (commas ,letters)\n",
    "#The first index runtime looks like this: 104 minutes\n",
    "#Then convert into a integer using .astype()method\n",
    "\n",
    "df_movie_modified['runtime'] = df_movie_modified['runtime'].str.replace(r'\\D+', '').astype(int)"
   ]
  },
  {
   "cell_type": "code",
   "execution_count": 117,
   "metadata": {},
   "outputs": [
    {
     "name": "stdout",
     "output_type": "stream",
     "text": [
      "<class 'pandas.core.frame.DataFrame'>\n",
      "Int64Index: 1482 entries, 0 to 1559\n",
      "Data columns (total 9 columns):\n",
      " #   Column        Non-Null Count  Dtype         \n",
      "---  ------        --------------  -----         \n",
      " 0   id            1482 non-null   int64         \n",
      " 1   synopsis      1482 non-null   object        \n",
      " 2   rating        1482 non-null   object        \n",
      " 3   genre         1482 non-null   object        \n",
      " 4   director      1482 non-null   object        \n",
      " 5   writer        1482 non-null   object        \n",
      " 6   theater_date  1482 non-null   datetime64[ns]\n",
      " 7   dvd_date      1482 non-null   datetime64[ns]\n",
      " 8   runtime       1482 non-null   int32         \n",
      "dtypes: datetime64[ns](2), int32(1), int64(1), object(5)\n",
      "memory usage: 110.0+ KB\n"
     ]
    }
   ],
   "source": [
    "#display summary of the new pandas df\n",
    "df_movie_modified.info()"
   ]
  },
  {
   "cell_type": "markdown",
   "metadata": {},
   "source": [
    "#### Short Explanation on the cleaned df_movie_modified Data\n",
    "* The cleaned Pandas DataFrame is called df_movie modified. \n",
    "* It has 1482 Entries/rows and 9 columns\n",
    "* The data does not consist of any Non-null values.\n",
    "* The data has 3 data types : Datetime, Integer and Object \n",
    "* The columns in the df are: *id, synopsis, rating, genre, director, writer theater_date, dvd_date and runtime.\n",
    "* The memory usage of the DataFrame is 110 KB.\n",
    "\n",
    "We managed to remove dublicates, drop rows, columns with NAN values and change data types for certain columns.\n",
    "\n",
    "The intial DataFrame had 1560 rows and 12 columns.\n",
    "The data types were 1 Interger and 11 Objects with diferent columns with NAN values.\n",
    "The memory usage of the intial DataFrame was 146.4 KB.\n"
   ]
  },
  {
   "cell_type": "code",
   "execution_count": 118,
   "metadata": {},
   "outputs": [
    {
     "data": {
      "text/html": [
       "<div>\n",
       "<style scoped>\n",
       "    .dataframe tbody tr th:only-of-type {\n",
       "        vertical-align: middle;\n",
       "    }\n",
       "\n",
       "    .dataframe tbody tr th {\n",
       "        vertical-align: top;\n",
       "    }\n",
       "\n",
       "    .dataframe thead th {\n",
       "        text-align: right;\n",
       "    }\n",
       "</style>\n",
       "<table border=\"1\" class=\"dataframe\">\n",
       "  <thead>\n",
       "    <tr style=\"text-align: right;\">\n",
       "      <th></th>\n",
       "      <th>id</th>\n",
       "      <th>synopsis</th>\n",
       "      <th>rating</th>\n",
       "      <th>genre</th>\n",
       "      <th>director</th>\n",
       "      <th>writer</th>\n",
       "      <th>theater_date</th>\n",
       "      <th>dvd_date</th>\n",
       "      <th>runtime</th>\n",
       "    </tr>\n",
       "  </thead>\n",
       "  <tbody>\n",
       "    <tr>\n",
       "      <th>0</th>\n",
       "      <td>1</td>\n",
       "      <td>This gritty, fast-paced, and innovative police...</td>\n",
       "      <td>R</td>\n",
       "      <td>Action and Adventure|Classics|Drama</td>\n",
       "      <td>William Friedkin</td>\n",
       "      <td>Ernest Tidyman</td>\n",
       "      <td>1971-10-09</td>\n",
       "      <td>2001-09-25</td>\n",
       "      <td>104</td>\n",
       "    </tr>\n",
       "    <tr>\n",
       "      <th>1</th>\n",
       "      <td>3</td>\n",
       "      <td>New York City, not-too-distant-future: Eric Pa...</td>\n",
       "      <td>R</td>\n",
       "      <td>Drama|Science Fiction and Fantasy</td>\n",
       "      <td>David Cronenberg</td>\n",
       "      <td>David Cronenberg|Don DeLillo</td>\n",
       "      <td>2012-08-17</td>\n",
       "      <td>2013-01-01</td>\n",
       "      <td>108</td>\n",
       "    </tr>\n",
       "    <tr>\n",
       "      <th>2</th>\n",
       "      <td>5</td>\n",
       "      <td>Illeana Douglas delivers a superb performance ...</td>\n",
       "      <td>R</td>\n",
       "      <td>Drama|Musical and Performing Arts</td>\n",
       "      <td>Allison Anders</td>\n",
       "      <td>Allison Anders</td>\n",
       "      <td>1996-09-13</td>\n",
       "      <td>2000-04-18</td>\n",
       "      <td>116</td>\n",
       "    </tr>\n",
       "    <tr>\n",
       "      <th>3</th>\n",
       "      <td>6</td>\n",
       "      <td>Michael Douglas runs afoul of a treacherous su...</td>\n",
       "      <td>R</td>\n",
       "      <td>Drama|Mystery and Suspense</td>\n",
       "      <td>Barry Levinson</td>\n",
       "      <td>Paul Attanasio|Michael Crichton</td>\n",
       "      <td>1994-12-09</td>\n",
       "      <td>1997-08-27</td>\n",
       "      <td>128</td>\n",
       "    </tr>\n",
       "    <tr>\n",
       "      <th>5</th>\n",
       "      <td>8</td>\n",
       "      <td>The year is 1942. As the Allies unite overseas...</td>\n",
       "      <td>PG</td>\n",
       "      <td>Drama|Kids and Family</td>\n",
       "      <td>Jay Russell</td>\n",
       "      <td>Gail Gilchriest</td>\n",
       "      <td>2000-03-03</td>\n",
       "      <td>2000-07-11</td>\n",
       "      <td>95</td>\n",
       "    </tr>\n",
       "  </tbody>\n",
       "</table>\n",
       "</div>"
      ],
      "text/plain": [
       "   id                                           synopsis rating  \\\n",
       "0   1  This gritty, fast-paced, and innovative police...      R   \n",
       "1   3  New York City, not-too-distant-future: Eric Pa...      R   \n",
       "2   5  Illeana Douglas delivers a superb performance ...      R   \n",
       "3   6  Michael Douglas runs afoul of a treacherous su...      R   \n",
       "5   8  The year is 1942. As the Allies unite overseas...     PG   \n",
       "\n",
       "                                 genre          director  \\\n",
       "0  Action and Adventure|Classics|Drama  William Friedkin   \n",
       "1    Drama|Science Fiction and Fantasy  David Cronenberg   \n",
       "2    Drama|Musical and Performing Arts    Allison Anders   \n",
       "3           Drama|Mystery and Suspense    Barry Levinson   \n",
       "5                Drama|Kids and Family       Jay Russell   \n",
       "\n",
       "                            writer theater_date   dvd_date  runtime  \n",
       "0                   Ernest Tidyman   1971-10-09 2001-09-25      104  \n",
       "1     David Cronenberg|Don DeLillo   2012-08-17 2013-01-01      108  \n",
       "2                   Allison Anders   1996-09-13 2000-04-18      116  \n",
       "3  Paul Attanasio|Michael Crichton   1994-12-09 1997-08-27      128  \n",
       "5                  Gail Gilchriest   2000-03-03 2000-07-11       95  "
      ]
     },
     "execution_count": 118,
     "metadata": {},
     "output_type": "execute_result"
    }
   ],
   "source": [
    "# View the cleaned DataFrame\n",
    "df_movie_modified.head()"
   ]
  },
  {
   "cell_type": "markdown",
   "metadata": {},
   "source": [
    "## Cleaning data for Question 2 \n",
    "\n",
    "    What is the relationship between a movie's production budget and the revenue made?\n",
    "\n",
    "For our question, we will utilise the data in df_budget mainly because it has the data we require in one database as well as it has 5782 entries unlike the df_movie_gross with only 3387 and 1370 NAN(Not A Number) values under the foreign gross column.\n",
    "\n",
    "Incase we require a foreign gross column, we can easily create a column and take worldwide_gross minus domestic gross.\n",
    "We will Merge this data frame with another to identify genres affected and more.\n"
   ]
  },
  {
   "cell_type": "code",
   "execution_count": 119,
   "metadata": {},
   "outputs": [
    {
     "data": {
      "text/html": [
       "<div>\n",
       "<style scoped>\n",
       "    .dataframe tbody tr th:only-of-type {\n",
       "        vertical-align: middle;\n",
       "    }\n",
       "\n",
       "    .dataframe tbody tr th {\n",
       "        vertical-align: top;\n",
       "    }\n",
       "\n",
       "    .dataframe thead th {\n",
       "        text-align: right;\n",
       "    }\n",
       "</style>\n",
       "<table border=\"1\" class=\"dataframe\">\n",
       "  <thead>\n",
       "    <tr style=\"text-align: right;\">\n",
       "      <th></th>\n",
       "      <th>id</th>\n",
       "      <th>release_date</th>\n",
       "      <th>movie</th>\n",
       "      <th>production_budget</th>\n",
       "      <th>domestic_gross</th>\n",
       "      <th>worldwide_gross</th>\n",
       "    </tr>\n",
       "  </thead>\n",
       "  <tbody>\n",
       "    <tr>\n",
       "      <th>0</th>\n",
       "      <td>1</td>\n",
       "      <td>Dec 18, 2009</td>\n",
       "      <td>Avatar</td>\n",
       "      <td>$425,000,000</td>\n",
       "      <td>$760,507,625</td>\n",
       "      <td>$2,776,345,279</td>\n",
       "    </tr>\n",
       "    <tr>\n",
       "      <th>1</th>\n",
       "      <td>2</td>\n",
       "      <td>May 20, 2011</td>\n",
       "      <td>Pirates of the Caribbean: On Stranger Tides</td>\n",
       "      <td>$410,600,000</td>\n",
       "      <td>$241,063,875</td>\n",
       "      <td>$1,045,663,875</td>\n",
       "    </tr>\n",
       "  </tbody>\n",
       "</table>\n",
       "</div>"
      ],
      "text/plain": [
       "   id  release_date                                        movie  \\\n",
       "0   1  Dec 18, 2009                                       Avatar   \n",
       "1   2  May 20, 2011  Pirates of the Caribbean: On Stranger Tides   \n",
       "\n",
       "  production_budget domestic_gross worldwide_gross  \n",
       "0      $425,000,000   $760,507,625  $2,776,345,279  \n",
       "1      $410,600,000   $241,063,875  $1,045,663,875  "
      ]
     },
     "execution_count": 119,
     "metadata": {},
     "output_type": "execute_result"
    }
   ],
   "source": [
    "#View dataframe\n",
    "df_budgets.head(2)"
   ]
  },
  {
   "cell_type": "code",
   "execution_count": 120,
   "metadata": {},
   "outputs": [
    {
     "name": "stdout",
     "output_type": "stream",
     "text": [
      "<class 'pandas.core.frame.DataFrame'>\n",
      "RangeIndex: 5782 entries, 0 to 5781\n",
      "Data columns (total 6 columns):\n",
      " #   Column             Non-Null Count  Dtype \n",
      "---  ------             --------------  ----- \n",
      " 0   id                 5782 non-null   int64 \n",
      " 1   release_date       5782 non-null   object\n",
      " 2   movie              5782 non-null   object\n",
      " 3   production_budget  5782 non-null   object\n",
      " 4   domestic_gross     5782 non-null   object\n",
      " 5   worldwide_gross    5782 non-null   object\n",
      "dtypes: int64(1), object(5)\n",
      "memory usage: 271.2+ KB\n"
     ]
    }
   ],
   "source": [
    "#display summary of the pandas df\n",
    "df_budgets.info()"
   ]
  },
  {
   "cell_type": "markdown",
   "metadata": {},
   "source": [
    "#### Short Explanation on the Data\n",
    "- This is a Pandas DataFrame with 5782 rows and 6 columns.\n",
    "- The data types are 1 Interger and 5 Objects.\n",
    "- Missing Values can be identified by taking number of entries minus the Non-Null count per column. \n",
    "- None of the columns in this DataFrame have missing Values \n",
    "\n",
    "The columns are:\n",
    "\n",
    "* id: an integer column with a unique identifier for each row.\n",
    "* release_date: an object column with the date when the movie was released. \n",
    "* movie: an object column with the name of the movie.\n",
    "* production_budget: an object column with the production budget of the movie.\n",
    "* domestic_gross: an object column with the domestic gross revenue of the movie.\n",
    "* worldwide_gross: an object column with the worldwide gross revenue of the movie.\n",
    "\n",
    "The memory usage of the DataFrame is 271.2 KB."
   ]
  },
  {
   "cell_type": "markdown",
   "metadata": {},
   "source": [
    "#### The Cleaning process\n",
    "\n",
    "None of the columns have missing values. However, there is a possibility of finding placeholders in the data.\n",
    "\n",
    "To clean the data we can start with:\n",
    "1. Check for duplicates on the unique column 'id' and 'movie'.\n",
    "2. Convert the release date into data type datetime pd.to_datetime().\n",
    "3. Remove commas and dollar from columns: production_budget', 'domestic_gross', and 'worldwide_gross'. \n",
    "4. Convert the data type of the above 3 columns.\n",
    "5. Rename the column names to depict dollar sign of the columns with figures\n",
    "6. Identify if we have any place holders such as 0 in the figures.\n"
   ]
  },
  {
   "cell_type": "code",
   "execution_count": 121,
   "metadata": {},
   "outputs": [
    {
     "data": {
      "text/plain": [
       "id                  0.00\n",
       "release_date        0.00\n",
       "movie               0.00\n",
       "production_budget   0.00\n",
       "domestic_gross      0.00\n",
       "worldwide_gross     0.00\n",
       "dtype: float64"
      ]
     },
     "execution_count": 121,
     "metadata": {},
     "output_type": "execute_result"
    }
   ],
   "source": [
    "#Identify the percentage of NAN Values.\n",
    "df_budgets.isna().mean()*100"
   ]
  },
  {
   "cell_type": "code",
   "execution_count": 122,
   "metadata": {},
   "outputs": [],
   "source": [
    "#create a new dataframe object that is a copy of df_budgets, \n",
    "#with the name df_budgets_modified. \n",
    "#Any modification on df_budgets_modified will not affect the original df_budgets dataframe.\n",
    "df_budgets_modified = df_budgets.copy()"
   ]
  },
  {
   "cell_type": "markdown",
   "metadata": {},
   "source": [
    "#### Dealing with date and duplicates"
   ]
  },
  {
   "cell_type": "code",
   "execution_count": 123,
   "metadata": {},
   "outputs": [],
   "source": [
    "# convert 'release date' to datetime objects\n",
    "df_budgets_modified['release_date'] = pd.to_datetime(df_budgets_modified['release_date'])"
   ]
  },
  {
   "cell_type": "code",
   "execution_count": 124,
   "metadata": {},
   "outputs": [
    {
     "data": {
      "text/plain": [
       "5682"
      ]
     },
     "execution_count": 124,
     "metadata": {},
     "output_type": "execute_result"
    }
   ],
   "source": [
    "#Check for duplicates in the unique column id\n",
    "duplicates = df_budgets_modified.duplicated(subset='id')\n",
    "duplicates.sum()"
   ]
  },
  {
   "cell_type": "markdown",
   "metadata": {},
   "source": [
    "5682 is a large number of duplicates considering we only have 5782 rows.\n",
    "Lets explore the data further before making a decision on what to do.\n",
    "\n",
    "On Manually checking the df_budgets_modified we will maintain the id column as it appears to be an index column which we can use for merging the different dataframes."
   ]
  },
  {
   "cell_type": "markdown",
   "metadata": {},
   "source": [
    "The \"movies\" column as well should not have any duplicates. However, on reviewing the column, we have 84 rows with same Movie name. \n",
    "We can drop this rows to avoid contradicting information.\n"
   ]
  },
  {
   "cell_type": "code",
   "execution_count": 125,
   "metadata": {},
   "outputs": [
    {
     "data": {
      "text/plain": [
       "84"
      ]
     },
     "execution_count": 125,
     "metadata": {},
     "output_type": "execute_result"
    }
   ],
   "source": [
    "#Check for duplicates in the unique column movie\n",
    "duplicates1 = df_budgets_modified.duplicated(subset='movie')\n",
    "duplicates1.sum()"
   ]
  },
  {
   "cell_type": "code",
   "execution_count": 126,
   "metadata": {},
   "outputs": [
    {
     "data": {
      "text/html": [
       "<div>\n",
       "<style scoped>\n",
       "    .dataframe tbody tr th:only-of-type {\n",
       "        vertical-align: middle;\n",
       "    }\n",
       "\n",
       "    .dataframe tbody tr th {\n",
       "        vertical-align: top;\n",
       "    }\n",
       "\n",
       "    .dataframe thead th {\n",
       "        text-align: right;\n",
       "    }\n",
       "</style>\n",
       "<table border=\"1\" class=\"dataframe\">\n",
       "  <thead>\n",
       "    <tr style=\"text-align: right;\">\n",
       "      <th></th>\n",
       "      <th>id</th>\n",
       "      <th>release_date</th>\n",
       "      <th>movie</th>\n",
       "      <th>production_budget</th>\n",
       "      <th>domestic_gross</th>\n",
       "      <th>worldwide_gross</th>\n",
       "    </tr>\n",
       "  </thead>\n",
       "  <tbody>\n",
       "    <tr>\n",
       "      <th>2610</th>\n",
       "      <td>11</td>\n",
       "      <td>2017-09-29</td>\n",
       "      <td>Flatliners</td>\n",
       "      <td>$20,000,000</td>\n",
       "      <td>$16,883,115</td>\n",
       "      <td>$45,173,738</td>\n",
       "    </tr>\n",
       "    <tr>\n",
       "      <th>2485</th>\n",
       "      <td>86</td>\n",
       "      <td>1991-11-13</td>\n",
       "      <td>Beauty and the Beast</td>\n",
       "      <td>$20,000,000</td>\n",
       "      <td>$376,057,266</td>\n",
       "      <td>$608,431,132</td>\n",
       "    </tr>\n",
       "    <tr>\n",
       "      <th>5015</th>\n",
       "      <td>16</td>\n",
       "      <td>1976-11-16</td>\n",
       "      <td>Carrie</td>\n",
       "      <td>$1,800,000</td>\n",
       "      <td>$25,878,153</td>\n",
       "      <td>$25,878,153</td>\n",
       "    </tr>\n",
       "    <tr>\n",
       "      <th>4775</th>\n",
       "      <td>76</td>\n",
       "      <td>1950-02-15</td>\n",
       "      <td>Cinderella</td>\n",
       "      <td>$2,900,000</td>\n",
       "      <td>$85,000,000</td>\n",
       "      <td>$263,591,415</td>\n",
       "    </tr>\n",
       "    <tr>\n",
       "      <th>707</th>\n",
       "      <td>8</td>\n",
       "      <td>1997-06-13</td>\n",
       "      <td>Hercules</td>\n",
       "      <td>$70,000,000</td>\n",
       "      <td>$99,112,101</td>\n",
       "      <td>$250,700,000</td>\n",
       "    </tr>\n",
       "  </tbody>\n",
       "</table>\n",
       "</div>"
      ],
      "text/plain": [
       "      id release_date                 movie production_budget domestic_gross  \\\n",
       "2610  11   2017-09-29            Flatliners       $20,000,000    $16,883,115   \n",
       "2485  86   1991-11-13  Beauty and the Beast       $20,000,000   $376,057,266   \n",
       "5015  16   1976-11-16                Carrie        $1,800,000    $25,878,153   \n",
       "4775  76   1950-02-15            Cinderella        $2,900,000    $85,000,000   \n",
       "707    8   1997-06-13              Hercules       $70,000,000    $99,112,101   \n",
       "\n",
       "     worldwide_gross  \n",
       "2610     $45,173,738  \n",
       "2485    $608,431,132  \n",
       "5015     $25,878,153  \n",
       "4775    $263,591,415  \n",
       "707     $250,700,000  "
      ]
     },
     "execution_count": 126,
     "metadata": {},
     "output_type": "execute_result"
    }
   ],
   "source": [
    "#Display a sample of rows that are duplicates in our dataframe_budgets_modified.\n",
    "duplicate_rows = df_budgets_modified[duplicates1]\n",
    "duplicate_rows.sample(5)"
   ]
  },
  {
   "cell_type": "code",
   "execution_count": 127,
   "metadata": {},
   "outputs": [],
   "source": [
    "# drop the duplicate rows in movies\n",
    "df_budgets_modified.drop_duplicates(subset='movie', inplace=True)"
   ]
  },
  {
   "cell_type": "code",
   "execution_count": 128,
   "metadata": {},
   "outputs": [
    {
     "data": {
      "text/plain": [
       "0"
      ]
     },
     "execution_count": 128,
     "metadata": {},
     "output_type": "execute_result"
    }
   ],
   "source": [
    "#Reconfirm duplicates have beed removed\n",
    "duplicates2 = df_budgets_modified.duplicated(subset='movie')\n",
    "duplicates2.sum()"
   ]
  },
  {
   "cell_type": "markdown",
   "metadata": {},
   "source": [
    "#### Dealing with unwanted special characters"
   ]
  },
  {
   "cell_type": "code",
   "execution_count": 129,
   "metadata": {},
   "outputs": [],
   "source": [
    "# remove commas and dollar signs from the relevant columns\n",
    "df_budgets_modified['production_budget'] = df_budgets_modified['production_budget'].str.replace(',', '').str.replace('$', '')\n",
    "df_budgets_modified['domestic_gross'] = df_budgets_modified['domestic_gross'].str.replace(',', '').str.replace('$', '')\n",
    "df_budgets_modified['worldwide_gross'] = df_budgets_modified['worldwide_gross'].str.replace(',', '').str.replace('$', '')"
   ]
  },
  {
   "cell_type": "code",
   "execution_count": 130,
   "metadata": {},
   "outputs": [],
   "source": [
    "# convert the relevant columns to floats\n",
    "df_budgets_modified['production_budget'] = df_budgets_modified['production_budget'].astype(float)\n",
    "df_budgets_modified['domestic_gross'] = df_budgets_modified['domestic_gross'].astype(float)\n",
    "df_budgets_modified['worldwide_gross'] = df_budgets_modified['worldwide_gross'].astype(float)"
   ]
  },
  {
   "cell_type": "markdown",
   "metadata": {},
   "source": [
    "#### Renaming Columns"
   ]
  },
  {
   "cell_type": "code",
   "execution_count": 131,
   "metadata": {},
   "outputs": [],
   "source": [
    "# rename the columns to help us identify value is in USD and not any other currency.\n",
    "df_budgets_modified = df_budgets_modified.rename(columns={'production_budget': 'production_budget_usd',\n",
    "                                                          'domestic_gross': 'domestic_gross_usd',\n",
    "                                                          'worldwide_gross': 'worldwide_gross_usd'})"
   ]
  },
  {
   "cell_type": "code",
   "execution_count": 132,
   "metadata": {},
   "outputs": [
    {
     "data": {
      "text/html": [
       "<div>\n",
       "<style scoped>\n",
       "    .dataframe tbody tr th:only-of-type {\n",
       "        vertical-align: middle;\n",
       "    }\n",
       "\n",
       "    .dataframe tbody tr th {\n",
       "        vertical-align: top;\n",
       "    }\n",
       "\n",
       "    .dataframe thead th {\n",
       "        text-align: right;\n",
       "    }\n",
       "</style>\n",
       "<table border=\"1\" class=\"dataframe\">\n",
       "  <thead>\n",
       "    <tr style=\"text-align: right;\">\n",
       "      <th></th>\n",
       "      <th>id</th>\n",
       "      <th>release_date</th>\n",
       "      <th>movie</th>\n",
       "      <th>production_budget_usd</th>\n",
       "      <th>domestic_gross_usd</th>\n",
       "      <th>worldwide_gross_usd</th>\n",
       "    </tr>\n",
       "  </thead>\n",
       "  <tbody>\n",
       "    <tr>\n",
       "      <th>0</th>\n",
       "      <td>1</td>\n",
       "      <td>2009-12-18</td>\n",
       "      <td>Avatar</td>\n",
       "      <td>425000000.00</td>\n",
       "      <td>760507625.00</td>\n",
       "      <td>2776345279.00</td>\n",
       "    </tr>\n",
       "    <tr>\n",
       "      <th>1</th>\n",
       "      <td>2</td>\n",
       "      <td>2011-05-20</td>\n",
       "      <td>Pirates of the Caribbean: On Stranger Tides</td>\n",
       "      <td>410600000.00</td>\n",
       "      <td>241063875.00</td>\n",
       "      <td>1045663875.00</td>\n",
       "    </tr>\n",
       "    <tr>\n",
       "      <th>2</th>\n",
       "      <td>3</td>\n",
       "      <td>2019-06-07</td>\n",
       "      <td>Dark Phoenix</td>\n",
       "      <td>350000000.00</td>\n",
       "      <td>42762350.00</td>\n",
       "      <td>149762350.00</td>\n",
       "    </tr>\n",
       "    <tr>\n",
       "      <th>3</th>\n",
       "      <td>4</td>\n",
       "      <td>2015-05-01</td>\n",
       "      <td>Avengers: Age of Ultron</td>\n",
       "      <td>330600000.00</td>\n",
       "      <td>459005868.00</td>\n",
       "      <td>1403013963.00</td>\n",
       "    </tr>\n",
       "    <tr>\n",
       "      <th>4</th>\n",
       "      <td>5</td>\n",
       "      <td>2017-12-15</td>\n",
       "      <td>Star Wars Ep. VIII: The Last Jedi</td>\n",
       "      <td>317000000.00</td>\n",
       "      <td>620181382.00</td>\n",
       "      <td>1316721747.00</td>\n",
       "    </tr>\n",
       "    <tr>\n",
       "      <th>5</th>\n",
       "      <td>6</td>\n",
       "      <td>2015-12-18</td>\n",
       "      <td>Star Wars Ep. VII: The Force Awakens</td>\n",
       "      <td>306000000.00</td>\n",
       "      <td>936662225.00</td>\n",
       "      <td>2053311220.00</td>\n",
       "    </tr>\n",
       "    <tr>\n",
       "      <th>6</th>\n",
       "      <td>7</td>\n",
       "      <td>2018-04-27</td>\n",
       "      <td>Avengers: Infinity War</td>\n",
       "      <td>300000000.00</td>\n",
       "      <td>678815482.00</td>\n",
       "      <td>2048134200.00</td>\n",
       "    </tr>\n",
       "    <tr>\n",
       "      <th>7</th>\n",
       "      <td>8</td>\n",
       "      <td>2007-05-24</td>\n",
       "      <td>Pirates of the Caribbean: At Worldâs End</td>\n",
       "      <td>300000000.00</td>\n",
       "      <td>309420425.00</td>\n",
       "      <td>963420425.00</td>\n",
       "    </tr>\n",
       "    <tr>\n",
       "      <th>8</th>\n",
       "      <td>9</td>\n",
       "      <td>2017-11-17</td>\n",
       "      <td>Justice League</td>\n",
       "      <td>300000000.00</td>\n",
       "      <td>229024295.00</td>\n",
       "      <td>655945209.00</td>\n",
       "    </tr>\n",
       "    <tr>\n",
       "      <th>9</th>\n",
       "      <td>10</td>\n",
       "      <td>2015-11-06</td>\n",
       "      <td>Spectre</td>\n",
       "      <td>300000000.00</td>\n",
       "      <td>200074175.00</td>\n",
       "      <td>879620923.00</td>\n",
       "    </tr>\n",
       "  </tbody>\n",
       "</table>\n",
       "</div>"
      ],
      "text/plain": [
       "   id release_date                                        movie  \\\n",
       "0   1   2009-12-18                                       Avatar   \n",
       "1   2   2011-05-20  Pirates of the Caribbean: On Stranger Tides   \n",
       "2   3   2019-06-07                                 Dark Phoenix   \n",
       "3   4   2015-05-01                      Avengers: Age of Ultron   \n",
       "4   5   2017-12-15            Star Wars Ep. VIII: The Last Jedi   \n",
       "5   6   2015-12-18         Star Wars Ep. VII: The Force Awakens   \n",
       "6   7   2018-04-27                       Avengers: Infinity War   \n",
       "7   8   2007-05-24   Pirates of the Caribbean: At Worldâs End   \n",
       "8   9   2017-11-17                               Justice League   \n",
       "9  10   2015-11-06                                      Spectre   \n",
       "\n",
       "   production_budget_usd  domestic_gross_usd  worldwide_gross_usd  \n",
       "0           425000000.00        760507625.00        2776345279.00  \n",
       "1           410600000.00        241063875.00        1045663875.00  \n",
       "2           350000000.00         42762350.00         149762350.00  \n",
       "3           330600000.00        459005868.00        1403013963.00  \n",
       "4           317000000.00        620181382.00        1316721747.00  \n",
       "5           306000000.00        936662225.00        2053311220.00  \n",
       "6           300000000.00        678815482.00        2048134200.00  \n",
       "7           300000000.00        309420425.00         963420425.00  \n",
       "8           300000000.00        229024295.00         655945209.00  \n",
       "9           300000000.00        200074175.00         879620923.00  "
      ]
     },
     "execution_count": 132,
     "metadata": {},
     "output_type": "execute_result"
    }
   ],
   "source": [
    "#check if the code has been effected\n",
    "df_budgets_modified.head(10)"
   ]
  },
  {
   "cell_type": "code",
   "execution_count": 133,
   "metadata": {},
   "outputs": [
    {
     "data": {
      "text/plain": [
       "id                       0\n",
       "release_date             0\n",
       "movie                    0\n",
       "production_budget_usd    0\n",
       "domestic_gross_usd       0\n",
       "worldwide_gross_usd      0\n",
       "dtype: int64"
      ]
     },
     "execution_count": 133,
     "metadata": {},
     "output_type": "execute_result"
    }
   ],
   "source": [
    "# check for missing values\n",
    "# No missing values identified\n",
    "df_budgets_modified.isna().sum()"
   ]
  },
  {
   "cell_type": "markdown",
   "metadata": {},
   "source": [
    "#### Dealing with placeholders"
   ]
  },
  {
   "cell_type": "code",
   "execution_count": 134,
   "metadata": {},
   "outputs": [
    {
     "name": "stdout",
     "output_type": "stream",
     "text": [
      "production_budget_usd   0.00\n",
      "domestic_gross_usd      5.42\n",
      "worldwide_gross_usd     3.61\n",
      "dtype: float64\n"
     ]
    }
   ],
   "source": [
    "#confirm if we have a 0- Zero value as a placeholder in any of our columns\n",
    "# Add the number of times the Zeros appears and divide by 100 to convert into a percentage.\n",
    "print(((df_budgets_modified[['production_budget_usd', 'domestic_gross_usd', 'worldwide_gross_usd']] == 0).sum()/100))"
   ]
  },
  {
   "cell_type": "code",
   "execution_count": 135,
   "metadata": {},
   "outputs": [],
   "source": [
    "#drop rows with zeros in the specified columns\n",
    "#create a new dataframe that only includes rows where our columns are not equal to 0,\n",
    "#then assign that new dataframe back to the original variable. \n",
    "df_budgets_modified = df_budgets_modified[(df_budgets_modified[['production_budget_usd', 'domestic_gross_usd', 'worldwide_gross_usd']] != 0).all(axis=1)]"
   ]
  },
  {
   "cell_type": "markdown",
   "metadata": {},
   "source": [
    "#### Dropping Zeros(0)"
   ]
  },
  {
   "cell_type": "code",
   "execution_count": 136,
   "metadata": {},
   "outputs": [],
   "source": [
    "df_budgets.loc[df_budgets_modified.index, 'foreign_gross_usd'] = df_budgets_modified['worldwide_gross_usd'] - df_budgets_modified['domestic_gross_usd']"
   ]
  },
  {
   "cell_type": "markdown",
   "metadata": {},
   "source": [
    "It is possible that the movies did not make any domestic/ gross revenue. However,considering our client would like to work on films that generate money its best we drop the rows with the placeholders.\n",
    "\n",
    "In our above case, we created a new dataframe that only includes columns not equal to 0 which does the same work as dropping the Zeros."
   ]
  },
  {
   "cell_type": "code",
   "execution_count": 137,
   "metadata": {},
   "outputs": [
    {
     "name": "stdout",
     "output_type": "stream",
     "text": [
      "<class 'pandas.core.frame.DataFrame'>\n",
      "Int64Index: 5156 entries, 0 to 5781\n",
      "Data columns (total 6 columns):\n",
      " #   Column                 Non-Null Count  Dtype         \n",
      "---  ------                 --------------  -----         \n",
      " 0   id                     5156 non-null   int64         \n",
      " 1   release_date           5156 non-null   datetime64[ns]\n",
      " 2   movie                  5156 non-null   object        \n",
      " 3   production_budget_usd  5156 non-null   float64       \n",
      " 4   domestic_gross_usd     5156 non-null   float64       \n",
      " 5   worldwide_gross_usd    5156 non-null   float64       \n",
      "dtypes: datetime64[ns](1), float64(3), int64(1), object(1)\n",
      "memory usage: 282.0+ KB\n"
     ]
    }
   ],
   "source": [
    "#view summary of data \n",
    "df_budgets_modified.info()"
   ]
  },
  {
   "cell_type": "markdown",
   "metadata": {},
   "source": [
    "#### Short Explanation on the cleaned df_budgets_modified Data\n",
    "\n",
    "* The cleaned Pandas DataFrame is called df_budgets_modified.\n",
    "* It has 5156 Entries/rows and 6 columns\n",
    "* The data does not consist of any null values.\n",
    "* The data has 3 data types : Datetime, float and Object\n",
    "* The columns are as below: *release, movie, production_budget_usd, genre, domestic_gross_usd, worldwide_gross_usd.\n",
    "* The memory usage of the DataFrame is 282.0 KB.\n",
    "\n",
    "We managed to remove dublicates, drop rows with placeholder values, change data types for certain columns as well as rename some of the columns.\n",
    "\n",
    "The intial DataFrame had 5781 rows and 6 columns. The data types were 1 Interger and 5 Objects with diferent columns with placeholder values. \n",
    "\n",
    "The memory usage of the intial DataFrame was 1271.2 KB."
   ]
  },
  {
   "cell_type": "code",
   "execution_count": 138,
   "metadata": {},
   "outputs": [
    {
     "data": {
      "text/html": [
       "<div>\n",
       "<style scoped>\n",
       "    .dataframe tbody tr th:only-of-type {\n",
       "        vertical-align: middle;\n",
       "    }\n",
       "\n",
       "    .dataframe tbody tr th {\n",
       "        vertical-align: top;\n",
       "    }\n",
       "\n",
       "    .dataframe thead th {\n",
       "        text-align: right;\n",
       "    }\n",
       "</style>\n",
       "<table border=\"1\" class=\"dataframe\">\n",
       "  <thead>\n",
       "    <tr style=\"text-align: right;\">\n",
       "      <th></th>\n",
       "      <th>id</th>\n",
       "      <th>release_date</th>\n",
       "      <th>movie</th>\n",
       "      <th>production_budget_usd</th>\n",
       "      <th>domestic_gross_usd</th>\n",
       "      <th>worldwide_gross_usd</th>\n",
       "    </tr>\n",
       "  </thead>\n",
       "  <tbody>\n",
       "    <tr>\n",
       "      <th>0</th>\n",
       "      <td>1</td>\n",
       "      <td>2009-12-18</td>\n",
       "      <td>Avatar</td>\n",
       "      <td>425000000.00</td>\n",
       "      <td>760507625.00</td>\n",
       "      <td>2776345279.00</td>\n",
       "    </tr>\n",
       "    <tr>\n",
       "      <th>1</th>\n",
       "      <td>2</td>\n",
       "      <td>2011-05-20</td>\n",
       "      <td>Pirates of the Caribbean: On Stranger Tides</td>\n",
       "      <td>410600000.00</td>\n",
       "      <td>241063875.00</td>\n",
       "      <td>1045663875.00</td>\n",
       "    </tr>\n",
       "    <tr>\n",
       "      <th>2</th>\n",
       "      <td>3</td>\n",
       "      <td>2019-06-07</td>\n",
       "      <td>Dark Phoenix</td>\n",
       "      <td>350000000.00</td>\n",
       "      <td>42762350.00</td>\n",
       "      <td>149762350.00</td>\n",
       "    </tr>\n",
       "    <tr>\n",
       "      <th>3</th>\n",
       "      <td>4</td>\n",
       "      <td>2015-05-01</td>\n",
       "      <td>Avengers: Age of Ultron</td>\n",
       "      <td>330600000.00</td>\n",
       "      <td>459005868.00</td>\n",
       "      <td>1403013963.00</td>\n",
       "    </tr>\n",
       "    <tr>\n",
       "      <th>4</th>\n",
       "      <td>5</td>\n",
       "      <td>2017-12-15</td>\n",
       "      <td>Star Wars Ep. VIII: The Last Jedi</td>\n",
       "      <td>317000000.00</td>\n",
       "      <td>620181382.00</td>\n",
       "      <td>1316721747.00</td>\n",
       "    </tr>\n",
       "  </tbody>\n",
       "</table>\n",
       "</div>"
      ],
      "text/plain": [
       "   id release_date                                        movie  \\\n",
       "0   1   2009-12-18                                       Avatar   \n",
       "1   2   2011-05-20  Pirates of the Caribbean: On Stranger Tides   \n",
       "2   3   2019-06-07                                 Dark Phoenix   \n",
       "3   4   2015-05-01                      Avengers: Age of Ultron   \n",
       "4   5   2017-12-15            Star Wars Ep. VIII: The Last Jedi   \n",
       "\n",
       "   production_budget_usd  domestic_gross_usd  worldwide_gross_usd  \n",
       "0           425000000.00        760507625.00        2776345279.00  \n",
       "1           410600000.00        241063875.00        1045663875.00  \n",
       "2           350000000.00         42762350.00         149762350.00  \n",
       "3           330600000.00        459005868.00        1403013963.00  \n",
       "4           317000000.00        620181382.00        1316721747.00  "
      ]
     },
     "execution_count": 138,
     "metadata": {},
     "output_type": "execute_result"
    }
   ],
   "source": [
    "#display summary of the new pandas df\n",
    "df_budgets_modified.head()"
   ]
  },
  {
   "cell_type": "markdown",
   "metadata": {},
   "source": [
    "## Cleaning data for Question 3\n",
    "\n",
    "How do movie ratings and reviews impact :\n",
    "\n",
    "    a) Revenue and is there a certain threshold of ratings/reviews that is associated with higher box office success?\n",
    "    b) Is there any correlation between production budget and rating?\n",
    "\n",
    "We will utilise the df_reviews dataset to get to the answer a part of the question."
   ]
  },
  {
   "cell_type": "code",
   "execution_count": 139,
   "metadata": {},
   "outputs": [
    {
     "data": {
      "text/html": [
       "<div>\n",
       "<style scoped>\n",
       "    .dataframe tbody tr th:only-of-type {\n",
       "        vertical-align: middle;\n",
       "    }\n",
       "\n",
       "    .dataframe tbody tr th {\n",
       "        vertical-align: top;\n",
       "    }\n",
       "\n",
       "    .dataframe thead th {\n",
       "        text-align: right;\n",
       "    }\n",
       "</style>\n",
       "<table border=\"1\" class=\"dataframe\">\n",
       "  <thead>\n",
       "    <tr style=\"text-align: right;\">\n",
       "      <th></th>\n",
       "      <th>id</th>\n",
       "      <th>review</th>\n",
       "      <th>rating</th>\n",
       "      <th>fresh</th>\n",
       "      <th>critic</th>\n",
       "      <th>top_critic</th>\n",
       "      <th>publisher</th>\n",
       "      <th>date</th>\n",
       "    </tr>\n",
       "  </thead>\n",
       "  <tbody>\n",
       "    <tr>\n",
       "      <th>0</th>\n",
       "      <td>3</td>\n",
       "      <td>A distinctly gallows take on contemporary fina...</td>\n",
       "      <td>3/5</td>\n",
       "      <td>fresh</td>\n",
       "      <td>PJ Nabarro</td>\n",
       "      <td>0</td>\n",
       "      <td>Patrick Nabarro</td>\n",
       "      <td>November 10, 2018</td>\n",
       "    </tr>\n",
       "    <tr>\n",
       "      <th>1</th>\n",
       "      <td>3</td>\n",
       "      <td>It's an allegory in search of a meaning that n...</td>\n",
       "      <td>NaN</td>\n",
       "      <td>rotten</td>\n",
       "      <td>Annalee Newitz</td>\n",
       "      <td>0</td>\n",
       "      <td>io9.com</td>\n",
       "      <td>May 23, 2018</td>\n",
       "    </tr>\n",
       "  </tbody>\n",
       "</table>\n",
       "</div>"
      ],
      "text/plain": [
       "   id                                             review rating   fresh  \\\n",
       "0   3  A distinctly gallows take on contemporary fina...    3/5   fresh   \n",
       "1   3  It's an allegory in search of a meaning that n...    NaN  rotten   \n",
       "\n",
       "           critic  top_critic        publisher               date  \n",
       "0      PJ Nabarro           0  Patrick Nabarro  November 10, 2018  \n",
       "1  Annalee Newitz           0          io9.com       May 23, 2018  "
      ]
     },
     "execution_count": 139,
     "metadata": {},
     "output_type": "execute_result"
    }
   ],
   "source": [
    "#view 2 lines on the dataframe(df) header\n",
    "df_reviews.head(2)"
   ]
  },
  {
   "cell_type": "code",
   "execution_count": 140,
   "metadata": {},
   "outputs": [
    {
     "name": "stdout",
     "output_type": "stream",
     "text": [
      "<class 'pandas.core.frame.DataFrame'>\n",
      "RangeIndex: 54432 entries, 0 to 54431\n",
      "Data columns (total 8 columns):\n",
      " #   Column      Non-Null Count  Dtype \n",
      "---  ------      --------------  ----- \n",
      " 0   id          54432 non-null  int64 \n",
      " 1   review      48869 non-null  object\n",
      " 2   rating      40915 non-null  object\n",
      " 3   fresh       54432 non-null  object\n",
      " 4   critic      51710 non-null  object\n",
      " 5   top_critic  54432 non-null  int64 \n",
      " 6   publisher   54123 non-null  object\n",
      " 7   date        54432 non-null  object\n",
      "dtypes: int64(2), object(6)\n",
      "memory usage: 3.3+ MB\n"
     ]
    }
   ],
   "source": [
    "#display summary of the pandas df\n",
    "df_reviews.info()"
   ]
  },
  {
   "cell_type": "markdown",
   "metadata": {},
   "source": [
    "#### Short Explanation on the Data\n",
    "\n",
    "* This is a DataFrame with 54432 rows and 8 columns.\n",
    "* The data types are Integer and Object\n",
    "* The DataFrame contains null values in some of the columns.\n",
    "    * Missing values can be identified through minusing the number of entries with the number of non-null values per column.\n",
    "\n",
    "\n",
    "The columns are: \n",
    "\n",
    "* id: integer representing the unique ID for each review.\n",
    "* review: object (string) representing the text of the review.\n",
    "* rating: object (string) representing the rating given by the critic.\n",
    "* fresh: object (string) representing whether the review is \"fresh\" or \"rotten\".\n",
    "* critic: object (string) representing the name of the critic.\n",
    "* top_critic: integer representing whether the critic is a top critic (1) or not (0).\n",
    "* publisher: object (string) representing the name of the publisher of the review.\n",
    "* date: object (string) representing the date the review was published.\n"
   ]
  },
  {
   "cell_type": "markdown",
   "metadata": {},
   "source": [
    "#### The Cleaning process\n",
    "\n",
    "None of the columns have missing values. However we could find place holders in the data.\n",
    "\n",
    "To clean the data we can start with:\n",
    "1. Check for duplicates on the unique column 'id' \n",
    "2. Convert the date into data type datetime pd.to_datetime()\n",
    "3. Identify and remove the NAN values 'review','rating','critic','publisher'\n",
    "4. Convert the 'rating' column to a numeric data type. \n",
    "\n"
   ]
  },
  {
   "cell_type": "code",
   "execution_count": 141,
   "metadata": {},
   "outputs": [],
   "source": [
    "#create a new dataframe object that is a copy of df_reviews, \n",
    "#with the name df_reviews_modified. \n",
    "#Any modification on df_reviews_modified will not affect the original df_budgets dataframe.\n",
    "df_reviews_modified = df_reviews.copy()"
   ]
  },
  {
   "cell_type": "code",
   "execution_count": 142,
   "metadata": {},
   "outputs": [
    {
     "data": {
      "text/plain": [
       "pandas.core.frame.DataFrame"
      ]
     },
     "execution_count": 142,
     "metadata": {},
     "output_type": "execute_result"
    }
   ],
   "source": [
    "type(df_reviews_modified)"
   ]
  },
  {
   "cell_type": "markdown",
   "metadata": {},
   "source": [
    "#### Dealing with duplicates"
   ]
  },
  {
   "cell_type": "code",
   "execution_count": 143,
   "metadata": {},
   "outputs": [
    {
     "data": {
      "text/plain": [
       "53297"
      ]
     },
     "execution_count": 143,
     "metadata": {},
     "output_type": "execute_result"
    }
   ],
   "source": [
    "#Identify the number of duplicates\n",
    "df_reviews_modified.id.duplicated().sum()\n"
   ]
  },
  {
   "cell_type": "markdown",
   "metadata": {},
   "source": [
    "The id in this column shows that the movie has been reviewed several times by various people. \n",
    "We will thus not require to drop it. \n",
    "\n",
    "id is our main key column that allows us to merge with other files.\n",
    "\n",
    "Lets move on to identify our NAN values \n"
   ]
  },
  {
   "cell_type": "markdown",
   "metadata": {},
   "source": [
    "#### Dealing with missing values( NANs)"
   ]
  },
  {
   "cell_type": "code",
   "execution_count": 144,
   "metadata": {},
   "outputs": [
    {
     "data": {
      "text/plain": [
       "id            0.00\n",
       "review       10.22\n",
       "rating       24.83\n",
       "fresh         0.00\n",
       "critic        5.00\n",
       "top_critic    0.00\n",
       "publisher     0.57\n",
       "date          0.00\n",
       "dtype: float64"
      ]
     },
     "execution_count": 144,
     "metadata": {},
     "output_type": "execute_result"
    }
   ],
   "source": [
    "#Confirm percentage of missing values\n",
    "df_reviews_modified.isna().mean()*100"
   ]
  },
  {
   "cell_type": "markdown",
   "metadata": {},
   "source": [
    "* From above data we need to drop the  rows in review, rating, critic and publisher.\n",
    "* For example, the review text is needed and without it we have no context to analyse.\n",
    "* we cannot also prefil any of this rows with a place holder or a mean/ median as it would create biasness to the data."
   ]
  },
  {
   "cell_type": "code",
   "execution_count": 145,
   "metadata": {},
   "outputs": [],
   "source": [
    "#drop anymissing values\n",
    "df_reviews_modified = df_reviews_modified.dropna(subset = ['review','rating','critic','publisher'])"
   ]
  },
  {
   "cell_type": "code",
   "execution_count": 146,
   "metadata": {},
   "outputs": [
    {
     "data": {
      "text/plain": [
       "id           0.00\n",
       "review       0.00\n",
       "rating       0.00\n",
       "fresh        0.00\n",
       "critic       0.00\n",
       "top_critic   0.00\n",
       "publisher    0.00\n",
       "date         0.00\n",
       "dtype: float64"
      ]
     },
     "execution_count": 146,
     "metadata": {},
     "output_type": "execute_result"
    }
   ],
   "source": [
    "#reconfirm an missing values left\n",
    "df_reviews_modified.isna().mean()*100"
   ]
  },
  {
   "cell_type": "code",
   "execution_count": 147,
   "metadata": {},
   "outputs": [],
   "source": [
    "#Convert the 'rating' column to a numeric data type. \n",
    "df_reviews_modified['rating'] = pd.to_numeric(df_reviews_modified['rating'], errors='coerce')"
   ]
  },
  {
   "cell_type": "code",
   "execution_count": 148,
   "metadata": {},
   "outputs": [
    {
     "data": {
      "text/plain": [
       "array([nan, 8. , 6. , 7. , 3. , 2.5, 9. , 1. , 5. , 0. , 2. , 4.5, 7.7,\n",
       "       3.5, 2.7, 5.8, 4. , 4.9, 1.5, 2.2, 7.3, 3.2, 4.2, 8.4, 1.8, 8.9,\n",
       "       7.9, 6.7, 5.2, 5.9, 3.7, 4.7, 8.2, 3.4, 9.7, 7.4, 4.8, 9.2, 3.1,\n",
       "       7.8, 6.2, 3.3, 9.8, 8.5, 4.1, 7.1])"
      ]
     },
     "execution_count": 148,
     "metadata": {},
     "output_type": "execute_result"
    }
   ],
   "source": [
    "#confirm the unique values\n",
    "#seems we still have some NANs\n",
    "df_reviews_modified['rating'].unique()"
   ]
  },
  {
   "cell_type": "code",
   "execution_count": 149,
   "metadata": {},
   "outputs": [
    {
     "data": {
      "text/plain": [
       "33349"
      ]
     },
     "execution_count": 149,
     "metadata": {},
     "output_type": "execute_result"
    }
   ],
   "source": [
    "df_reviews_modified['rating'].isna().sum()"
   ]
  },
  {
   "cell_type": "code",
   "execution_count": 150,
   "metadata": {},
   "outputs": [],
   "source": [
    "#drop the NAN value\n",
    "df_reviews_modified = df_reviews_modified.dropna(subset = ['rating'])"
   ]
  },
  {
   "cell_type": "code",
   "execution_count": 151,
   "metadata": {},
   "outputs": [
    {
     "data": {
      "text/plain": [
       "array([8. , 6. , 7. , 3. , 2.5, 9. , 1. , 5. , 0. , 2. , 4.5, 7.7, 3.5,\n",
       "       2.7, 5.8, 4. , 4.9, 1.5, 2.2, 7.3, 3.2, 4.2, 8.4, 1.8, 8.9, 7.9,\n",
       "       6.7, 5.2, 5.9, 3.7, 4.7, 8.2, 3.4, 9.7, 7.4, 4.8, 9.2, 3.1, 7.8,\n",
       "       6.2, 3.3, 9.8, 8.5, 4.1, 7.1])"
      ]
     },
     "execution_count": 151,
     "metadata": {},
     "output_type": "execute_result"
    }
   ],
   "source": [
    "#reconfirm the unique values\n",
    "df_reviews_modified['rating'].unique()"
   ]
  },
  {
   "cell_type": "markdown",
   "metadata": {},
   "source": [
    "#### Changing datatypes"
   ]
  },
  {
   "cell_type": "code",
   "execution_count": 152,
   "metadata": {},
   "outputs": [],
   "source": [
    "#Convert the 'date' column to a datetime data type\n",
    "df_reviews_modified['date'] = pd.to_datetime(df_reviews_modified['date'])"
   ]
  },
  {
   "cell_type": "code",
   "execution_count": 153,
   "metadata": {},
   "outputs": [
    {
     "name": "stdout",
     "output_type": "stream",
     "text": [
      "<class 'pandas.core.frame.DataFrame'>\n",
      "Int64Index: 639 entries, 22 to 54371\n",
      "Data columns (total 8 columns):\n",
      " #   Column      Non-Null Count  Dtype         \n",
      "---  ------      --------------  -----         \n",
      " 0   id          639 non-null    int64         \n",
      " 1   review      639 non-null    object        \n",
      " 2   rating      639 non-null    float64       \n",
      " 3   fresh       639 non-null    object        \n",
      " 4   critic      639 non-null    object        \n",
      " 5   top_critic  639 non-null    int64         \n",
      " 6   publisher   639 non-null    object        \n",
      " 7   date        639 non-null    datetime64[ns]\n",
      "dtypes: datetime64[ns](1), float64(1), int64(2), object(4)\n",
      "memory usage: 44.9+ KB\n"
     ]
    }
   ],
   "source": [
    "#view the new pandas df\n",
    "df_reviews_modified.info()"
   ]
  },
  {
   "cell_type": "markdown",
   "metadata": {},
   "source": [
    "#### Short Explanation on the cleaned df_reviews_modified Data\n",
    "\n",
    "* The cleaned Pandas DataFrame is called df_reviews_modified.\n",
    "* It has 639 Entries/rows and 8 columns\n",
    "* The data does not consist of any null values.\n",
    "* The data has 5 data types : bool, datetime, float, integer and Object\n",
    "* The columns are as below: *id, review, rating, fresh, critic, top_critic, publisher and date.\n",
    "* The memory usage of the DataFrame is 40.6 KB.\n",
    "\n",
    "We managed to drop rows and identify  placeholder values and drop them, change data types for certain columns\n",
    "\n",
    "The intial DataFrame had 54371 rows and 8 columns. The data types were 2 Interger and 6 Objects with diferent columns with placeholder and missing values. \n",
    "\n",
    "The memory usage of the intial DataFrame was 3.3 MB"
   ]
  },
  {
   "cell_type": "code",
   "execution_count": 154,
   "metadata": {},
   "outputs": [
    {
     "data": {
      "text/html": [
       "<div>\n",
       "<style scoped>\n",
       "    .dataframe tbody tr th:only-of-type {\n",
       "        vertical-align: middle;\n",
       "    }\n",
       "\n",
       "    .dataframe tbody tr th {\n",
       "        vertical-align: top;\n",
       "    }\n",
       "\n",
       "    .dataframe thead th {\n",
       "        text-align: right;\n",
       "    }\n",
       "</style>\n",
       "<table border=\"1\" class=\"dataframe\">\n",
       "  <thead>\n",
       "    <tr style=\"text-align: right;\">\n",
       "      <th></th>\n",
       "      <th>id</th>\n",
       "      <th>review</th>\n",
       "      <th>rating</th>\n",
       "      <th>fresh</th>\n",
       "      <th>critic</th>\n",
       "      <th>top_critic</th>\n",
       "      <th>publisher</th>\n",
       "      <th>date</th>\n",
       "    </tr>\n",
       "  </thead>\n",
       "  <tbody>\n",
       "    <tr>\n",
       "      <th>22</th>\n",
       "      <td>3</td>\n",
       "      <td>... a movie about a sentient zombie, trapped i...</td>\n",
       "      <td>8.00</td>\n",
       "      <td>fresh</td>\n",
       "      <td>Philip Martin</td>\n",
       "      <td>0</td>\n",
       "      <td>Arkansas Democrat-Gazette</td>\n",
       "      <td>2012-09-07</td>\n",
       "    </tr>\n",
       "    <tr>\n",
       "      <th>323</th>\n",
       "      <td>10</td>\n",
       "      <td>If all you're looking for is a mild comedy wit...</td>\n",
       "      <td>6.00</td>\n",
       "      <td>rotten</td>\n",
       "      <td>Scott Weinberg</td>\n",
       "      <td>0</td>\n",
       "      <td>Apollo Guide</td>\n",
       "      <td>2004-03-16</td>\n",
       "    </tr>\n",
       "  </tbody>\n",
       "</table>\n",
       "</div>"
      ],
      "text/plain": [
       "     id                                             review  rating   fresh  \\\n",
       "22    3  ... a movie about a sentient zombie, trapped i...    8.00   fresh   \n",
       "323  10  If all you're looking for is a mild comedy wit...    6.00  rotten   \n",
       "\n",
       "             critic  top_critic                  publisher       date  \n",
       "22    Philip Martin           0  Arkansas Democrat-Gazette 2012-09-07  \n",
       "323  Scott Weinberg           0               Apollo Guide 2004-03-16  "
      ]
     },
     "execution_count": 154,
     "metadata": {},
     "output_type": "execute_result"
    }
   ],
   "source": [
    "#display the new pandas df\n",
    "df_reviews_modified.head(2)"
   ]
  },
  {
   "cell_type": "markdown",
   "metadata": {},
   "source": [
    "## Step 3: Explore and Analyze the data"
   ]
  },
  {
   "cell_type": "markdown",
   "metadata": {},
   "source": [
    "In this step, we will perform statistical anlaysis and visualize the data in order to gain insights and answer the research questions. \n",
    "\n",
    "The following actions will occur in this part:\n",
    "* Merge the 3 dataframes\n",
    "* Calculate a summary of statistics of the merged data frame\n",
    "           * Mean\n",
    "           * Median\n",
    "           * Standard deviation\n",
    "* Data Visualization\n"
   ]
  },
  {
   "cell_type": "markdown",
   "metadata": {},
   "source": [
    "## Merging the cleaned dataframes\n",
    "To remind ourselves, we have 3 dataframes \n",
    "* df_movie_modified\n",
    "* df_budgets_modified\n",
    "* df_reviews_modified\n",
    "\n",
    "We will start with merging the dataframes. "
   ]
  },
  {
   "cell_type": "code",
   "execution_count": 155,
   "metadata": {},
   "outputs": [],
   "source": [
    "#Merge the 3 dataframes\n",
    "df_modified_merged = pd.merge(df_movie_modified, df_budgets_modified, on = 'id')\n",
    "df_modified_merged = pd.merge(df_modified_merged, df_reviews_modified, on = 'id')"
   ]
  },
  {
   "cell_type": "code",
   "execution_count": 156,
   "metadata": {},
   "outputs": [],
   "source": [
    "# set the display format for float numbers to show 2 decimal places for easier reading and display.\n",
    "#columns affected production budget, domestic/worldwide gross \n",
    "pd.options.display.float_format = '{:.2f}'.format"
   ]
  },
  {
   "cell_type": "code",
   "execution_count": 157,
   "metadata": {},
   "outputs": [
    {
     "data": {
      "text/html": [
       "<div>\n",
       "<style scoped>\n",
       "    .dataframe tbody tr th:only-of-type {\n",
       "        vertical-align: middle;\n",
       "    }\n",
       "\n",
       "    .dataframe tbody tr th {\n",
       "        vertical-align: top;\n",
       "    }\n",
       "\n",
       "    .dataframe thead th {\n",
       "        text-align: right;\n",
       "    }\n",
       "</style>\n",
       "<table border=\"1\" class=\"dataframe\">\n",
       "  <thead>\n",
       "    <tr style=\"text-align: right;\">\n",
       "      <th></th>\n",
       "      <th>id</th>\n",
       "      <th>synopsis</th>\n",
       "      <th>rating_x</th>\n",
       "      <th>genre</th>\n",
       "      <th>director</th>\n",
       "      <th>writer</th>\n",
       "      <th>theater_date</th>\n",
       "      <th>dvd_date</th>\n",
       "      <th>runtime</th>\n",
       "      <th>release_date</th>\n",
       "      <th>...</th>\n",
       "      <th>production_budget_usd</th>\n",
       "      <th>domestic_gross_usd</th>\n",
       "      <th>worldwide_gross_usd</th>\n",
       "      <th>review</th>\n",
       "      <th>rating_y</th>\n",
       "      <th>fresh</th>\n",
       "      <th>critic</th>\n",
       "      <th>top_critic</th>\n",
       "      <th>publisher</th>\n",
       "      <th>date</th>\n",
       "    </tr>\n",
       "  </thead>\n",
       "  <tbody>\n",
       "    <tr>\n",
       "      <th>0</th>\n",
       "      <td>3</td>\n",
       "      <td>New York City, not-too-distant-future: Eric Pa...</td>\n",
       "      <td>R</td>\n",
       "      <td>Drama|Science Fiction and Fantasy</td>\n",
       "      <td>David Cronenberg</td>\n",
       "      <td>David Cronenberg|Don DeLillo</td>\n",
       "      <td>2012-08-17</td>\n",
       "      <td>2013-01-01</td>\n",
       "      <td>108</td>\n",
       "      <td>2019-06-07</td>\n",
       "      <td>...</td>\n",
       "      <td>350000000.00</td>\n",
       "      <td>42762350.00</td>\n",
       "      <td>149762350.00</td>\n",
       "      <td>... a movie about a sentient zombie, trapped i...</td>\n",
       "      <td>8.00</td>\n",
       "      <td>fresh</td>\n",
       "      <td>Philip Martin</td>\n",
       "      <td>0</td>\n",
       "      <td>Arkansas Democrat-Gazette</td>\n",
       "      <td>2012-09-07</td>\n",
       "    </tr>\n",
       "    <tr>\n",
       "      <th>1</th>\n",
       "      <td>3</td>\n",
       "      <td>New York City, not-too-distant-future: Eric Pa...</td>\n",
       "      <td>R</td>\n",
       "      <td>Drama|Science Fiction and Fantasy</td>\n",
       "      <td>David Cronenberg</td>\n",
       "      <td>David Cronenberg|Don DeLillo</td>\n",
       "      <td>2012-08-17</td>\n",
       "      <td>2013-01-01</td>\n",
       "      <td>108</td>\n",
       "      <td>2018-11-21</td>\n",
       "      <td>...</td>\n",
       "      <td>175000000.00</td>\n",
       "      <td>201091711.00</td>\n",
       "      <td>524283695.00</td>\n",
       "      <td>... a movie about a sentient zombie, trapped i...</td>\n",
       "      <td>8.00</td>\n",
       "      <td>fresh</td>\n",
       "      <td>Philip Martin</td>\n",
       "      <td>0</td>\n",
       "      <td>Arkansas Democrat-Gazette</td>\n",
       "      <td>2012-09-07</td>\n",
       "    </tr>\n",
       "  </tbody>\n",
       "</table>\n",
       "<p>2 rows × 21 columns</p>\n",
       "</div>"
      ],
      "text/plain": [
       "   id                                           synopsis rating_x  \\\n",
       "0   3  New York City, not-too-distant-future: Eric Pa...        R   \n",
       "1   3  New York City, not-too-distant-future: Eric Pa...        R   \n",
       "\n",
       "                               genre          director  \\\n",
       "0  Drama|Science Fiction and Fantasy  David Cronenberg   \n",
       "1  Drama|Science Fiction and Fantasy  David Cronenberg   \n",
       "\n",
       "                         writer theater_date   dvd_date  runtime release_date  \\\n",
       "0  David Cronenberg|Don DeLillo   2012-08-17 2013-01-01      108   2019-06-07   \n",
       "1  David Cronenberg|Don DeLillo   2012-08-17 2013-01-01      108   2018-11-21   \n",
       "\n",
       "   ... production_budget_usd  domestic_gross_usd  worldwide_gross_usd  \\\n",
       "0  ...          350000000.00         42762350.00         149762350.00   \n",
       "1  ...          175000000.00        201091711.00         524283695.00   \n",
       "\n",
       "                                              review rating_y  fresh  \\\n",
       "0  ... a movie about a sentient zombie, trapped i...     8.00  fresh   \n",
       "1  ... a movie about a sentient zombie, trapped i...     8.00  fresh   \n",
       "\n",
       "          critic top_critic                  publisher       date  \n",
       "0  Philip Martin          0  Arkansas Democrat-Gazette 2012-09-07  \n",
       "1  Philip Martin          0  Arkansas Democrat-Gazette 2012-09-07  \n",
       "\n",
       "[2 rows x 21 columns]"
      ]
     },
     "execution_count": 157,
     "metadata": {},
     "output_type": "execute_result"
    }
   ],
   "source": [
    "#View the dataframe\n",
    "df_modified_merged.head(2)"
   ]
  },
  {
   "cell_type": "markdown",
   "metadata": {},
   "source": [
    "#### Adding columns "
   ]
  },
  {
   "cell_type": "code",
   "execution_count": 158,
   "metadata": {},
   "outputs": [],
   "source": [
    "#Adding a new column called ROI (rturn on investment) to support with the analysis\n",
    "df_modified_merged['ROI'] = (df_modified_merged['worldwide_gross_usd'] - df_modified_merged['production_budget_usd'])/ df_modified_merged['production_budget_usd']"
   ]
  },
  {
   "cell_type": "markdown",
   "metadata": {},
   "source": [
    "#### Confirming the DataFrame timeframe"
   ]
  },
  {
   "cell_type": "code",
   "execution_count": 159,
   "metadata": {},
   "outputs": [
    {
     "name": "stdout",
     "output_type": "stream",
     "text": [
      "Start date:  1925-12-30 00:00:00\n",
      "End date:  2019-06-07 00:00:00\n"
     ]
    }
   ],
   "source": [
    "#Lets utilise the release date. \n",
    "#1900-01-01 - The date we put as a placeholder\n",
    "print(\"Start date: \", df_modified_merged['release_date'].min())\n",
    "print(\"End date: \", df_modified_merged['release_date'].max())"
   ]
  },
  {
   "cell_type": "code",
   "execution_count": 160,
   "metadata": {},
   "outputs": [
    {
     "data": {
      "text/plain": [
       "id                       0\n",
       "synopsis                 0\n",
       "rating_x                 0\n",
       "genre                    0\n",
       "director                 0\n",
       "writer                   0\n",
       "theater_date             0\n",
       "dvd_date                 0\n",
       "runtime                  0\n",
       "release_date             0\n",
       "movie                    0\n",
       "production_budget_usd    0\n",
       "domestic_gross_usd       0\n",
       "worldwide_gross_usd      0\n",
       "review                   0\n",
       "rating_y                 0\n",
       "fresh                    0\n",
       "critic                   0\n",
       "top_critic               0\n",
       "publisher                0\n",
       "date                     0\n",
       "ROI                      0\n",
       "dtype: int64"
      ]
     },
     "execution_count": 160,
     "metadata": {},
     "output_type": "execute_result"
    }
   ],
   "source": [
    "#check for missing values\n",
    "df_modified_merged.isna().sum()"
   ]
  },
  {
   "cell_type": "code",
   "execution_count": 161,
   "metadata": {},
   "outputs": [
    {
     "name": "stdout",
     "output_type": "stream",
     "text": [
      "<class 'pandas.core.frame.DataFrame'>\n",
      "Int64Index: 2356 entries, 0 to 2355\n",
      "Data columns (total 22 columns):\n",
      " #   Column                 Non-Null Count  Dtype         \n",
      "---  ------                 --------------  -----         \n",
      " 0   id                     2356 non-null   int64         \n",
      " 1   synopsis               2356 non-null   object        \n",
      " 2   rating_x               2356 non-null   object        \n",
      " 3   genre                  2356 non-null   object        \n",
      " 4   director               2356 non-null   object        \n",
      " 5   writer                 2356 non-null   object        \n",
      " 6   theater_date           2356 non-null   datetime64[ns]\n",
      " 7   dvd_date               2356 non-null   datetime64[ns]\n",
      " 8   runtime                2356 non-null   int32         \n",
      " 9   release_date           2356 non-null   datetime64[ns]\n",
      " 10  movie                  2356 non-null   object        \n",
      " 11  production_budget_usd  2356 non-null   float64       \n",
      " 12  domestic_gross_usd     2356 non-null   float64       \n",
      " 13  worldwide_gross_usd    2356 non-null   float64       \n",
      " 14  review                 2356 non-null   object        \n",
      " 15  rating_y               2356 non-null   float64       \n",
      " 16  fresh                  2356 non-null   object        \n",
      " 17  critic                 2356 non-null   object        \n",
      " 18  top_critic             2356 non-null   int64         \n",
      " 19  publisher              2356 non-null   object        \n",
      " 20  date                   2356 non-null   datetime64[ns]\n",
      " 21  ROI                    2356 non-null   float64       \n",
      "dtypes: datetime64[ns](4), float64(5), int32(1), int64(2), object(10)\n",
      "memory usage: 414.1+ KB\n"
     ]
    }
   ],
   "source": [
    "#View a summary of the dataframe\n",
    "df_modified_merged.info()"
   ]
  },
  {
   "cell_type": "markdown",
   "metadata": {},
   "source": [
    "#### Summary of the Merged dataframe\n",
    "\n",
    "* The resulting merged DataFrame has 2356 rows and 22 columns. \n",
    "* The data types are 4 : datatime, float,int,object.\n",
    "* We have no null figures in our data set.\n",
    "* The columns have been appropriately merged and are all indicated above.\n",
    "* The data occupies 414.1 KB\n"
   ]
  },
  {
   "cell_type": "markdown",
   "metadata": {},
   "source": [
    "## Statistical Analysis and Visualization\n",
    "* This is also known as univariant analysis.\n",
    "* This involves generating summary statistics for the merged DataFrame.\n",
    "* We will utilise df.describe() and also visualise the columns.\n",
    "* The output gives a good idea of the central tendency, variability, and range of the variable we are looking into.\n",
    "\n",
    "In df_modified merged we can only do a univariant analysis for 4 numerical columns \n",
    "- runtime \n",
    "* production_budget_usd\n",
    "* domestic_gross_usd\n",
    "* worldwide_gross_usd\n"
   ]
  },
  {
   "cell_type": "code",
   "execution_count": 162,
   "metadata": {},
   "outputs": [],
   "source": [
    "#Data Visualization : To enable us to visualize, we require to import Seaborn and Matplotlib \n",
    "import seaborn as sns\n",
    "import matplotlib.pyplot as plt\n",
    "%matplotlib inline"
   ]
  },
  {
   "cell_type": "code",
   "execution_count": 163,
   "metadata": {},
   "outputs": [
    {
     "data": {
      "text/plain": [
       "count   2356.00\n",
       "mean     114.26\n",
       "std       16.96\n",
       "min       82.00\n",
       "25%      106.00\n",
       "50%      117.00\n",
       "75%      123.00\n",
       "max      165.00\n",
       "Name: runtime, dtype: float64"
      ]
     },
     "execution_count": 163,
     "metadata": {},
     "output_type": "execute_result"
    }
   ],
   "source": [
    "df_modified_merged['runtime'].describe()"
   ]
  },
  {
   "cell_type": "markdown",
   "metadata": {},
   "source": [
    "* The mean runtime is around 114 minutes, with a standard deviation of 16.96 minutes this indicates that the data is moderately spread out around the mean. \n",
    "* The minimum runtime is 82 minutes and the maximum runtime is 165 minutes.\n",
    "* The median run time is 117 minites.\n",
    "* The majority of the data falling between 106 and 123 minutes."
   ]
  },
  {
   "cell_type": "code",
   "execution_count": 164,
   "metadata": {},
   "outputs": [
    {
     "data": {
      "image/png": "[encoded data removed]",
      "text/plain": [
       "<Figure size 432x288 with 1 Axes>"
      ]
     },
     "metadata": {
      "needs_background": "light"
     },
     "output_type": "display_data"
    }
   ],
   "source": [
    "# Create the histogram with a a kernel density estimate (KDE) curve\n",
    "sns.histplot(data=df_modified_merged, x=\"runtime\", color=\"black\", kde=True)\n",
    "\n",
    "# Add a title\n",
    "plt.title(\"Histogram of Runtime\")\n",
    "\n",
    "# Show the plot\n",
    "plt.show()"
   ]
  },
  {
   "cell_type": "code",
   "execution_count": 165,
   "metadata": {},
   "outputs": [
    {
     "data": {
      "text/plain": [
       "count        2356.00\n",
       "mean     34623313.87\n",
       "std      42902788.42\n",
       "min          1100.00\n",
       "25%       7000000.00\n",
       "50%      20000000.00\n",
       "75%      45000000.00\n",
       "max     350000000.00\n",
       "Name: production_budget_usd, dtype: float64"
      ]
     },
     "execution_count": 165,
     "metadata": {},
     "output_type": "execute_result"
    }
   ],
   "source": [
    "df_modified_merged['production_budget_usd'].describe()"
   ]
  },
  {
   "cell_type": "markdown",
   "metadata": {},
   "source": [
    "* The mean production budget is about USD 34.6 million, with a standard deviation of about USD 42.9 million this indicates that the data is quite spread out around the mean. \n",
    "* The minimum production budget is about USD 1,100 and the maximum production budget is about USD 350 million.\n",
    "* The median for production budget used is 20 million which falls between the 25% percentile of USD 7 million and the 75th percentile of USD 45 million.\n"
   ]
  },
  {
   "cell_type": "code",
   "execution_count": 166,
   "metadata": {},
   "outputs": [
    {
     "data": {
      "image/png": "[encoded data removed]",
      "text/plain": [
       "<Figure size 432x288 with 1 Axes>"
      ]
     },
     "metadata": {
      "needs_background": "light"
     },
     "output_type": "display_data"
    }
   ],
   "source": [
    "# Create the boxplot\n",
    "sns.boxplot(data=df_modified_merged, x='production_budget_usd', color='blue')\n",
    "\n",
    "# Add a title\n",
    "plt.title(\"Boxplot of Production Budget\")\n",
    "\n",
    "# Show the plot\n",
    "plt.show()"
   ]
  },
  {
   "cell_type": "code",
   "execution_count": 167,
   "metadata": {},
   "outputs": [
    {
     "data": {
      "text/plain": [
       "count        2356.00\n",
       "mean     45543251.36\n",
       "std      67253075.58\n",
       "min           527.00\n",
       "25%       4269426.00\n",
       "50%      23275439.00\n",
       "75%      58538034.50\n",
       "max     652270625.00\n",
       "Name: domestic_gross_usd, dtype: float64"
      ]
     },
     "execution_count": 167,
     "metadata": {},
     "output_type": "execute_result"
    }
   ],
   "source": [
    "df_modified_merged['domestic_gross_usd'].describe()"
   ]
  },
  {
   "cell_type": "markdown",
   "metadata": {},
   "source": [
    "* The mean domestic_gross revenue is about USD 45.5 million, with a standard deviation of about 67.3 million, this indicates that the data is quite spread out around the mean. \n",
    "* The minimum domestic_gross revenue is USD 527 and the maximum domestic_gross revenue is USD 652.3 million. \n",
    "* The majority of the domestic_gross falls between USD4.26 million and USD 58.5 million, with the median domestic_gross revenue being USD 23.3 million."
   ]
  },
  {
   "cell_type": "code",
   "execution_count": 168,
   "metadata": {},
   "outputs": [
    {
     "data": {
      "image/png": "[encoded data removed]",
      "text/plain": [
       "<Figure size 432x288 with 1 Axes>"
      ]
     },
     "metadata": {
      "needs_background": "light"
     },
     "output_type": "display_data"
    }
   ],
   "source": [
    "# Create the boxplot\n",
    "sns.boxplot(data=df_modified_merged, x='domestic_gross_usd', color='green')\n",
    "\n",
    "# Add a title\n",
    "plt.title(\"Boxplot of Domestic Gross Revenue\")\n",
    "\n",
    "# Show the plot\n",
    "plt.show()"
   ]
  },
  {
   "cell_type": "code",
   "execution_count": 169,
   "metadata": {},
   "outputs": [
    {
     "data": {
      "text/plain": [
       "count         2356.00\n",
       "mean      98630604.24\n",
       "std      175703743.96\n",
       "min            527.00\n",
       "25%        7934697.25\n",
       "50%       38283765.00\n",
       "75%      103880027.00\n",
       "max     1648854864.00\n",
       "Name: worldwide_gross_usd, dtype: float64"
      ]
     },
     "execution_count": 169,
     "metadata": {},
     "output_type": "execute_result"
    }
   ],
   "source": [
    "df_modified_merged['worldwide_gross_usd'].describe()"
   ]
  },
  {
   "cell_type": "markdown",
   "metadata": {},
   "source": [
    "* The mean worldwide gross revenue is about 98.6 million, with a standard deviation of about 175.7 million, indicating that the data is quite spread out around the mean. \n",
    "* The minimum worldwide gross value is USD 527 and the maximum worldwide gross value is USD 1.65 billion.\n",
    "* The majority of the worldwide gross value falls between USD 7.9 million and USD 103.9 million, with the median value being USD 38.3 million."
   ]
  },
  {
   "cell_type": "code",
   "execution_count": 170,
   "metadata": {},
   "outputs": [
    {
     "data": {
      "image/png": "[encoded data removed]",
      "text/plain": [
       "<Figure size 432x288 with 1 Axes>"
      ]
     },
     "metadata": {
      "needs_background": "light"
     },
     "output_type": "display_data"
    }
   ],
   "source": [
    "# Create the boxplot\n",
    "sns.boxplot(data=df_modified_merged, x='worldwide_gross_usd', color='Orange')\n",
    "\n",
    "# Add a title\n",
    "plt.title(\"Boxplot of Worldwide Gross Revenue\")\n",
    "\n",
    "# Show the plot\n",
    "plt.show()"
   ]
  },
  {
   "cell_type": "markdown",
   "metadata": {},
   "source": [
    "### Lets answer our intial 3 business questions : \n",
    "\n",
    "    \n",
    "#### What are the most popular genres of movies and what is the average runtime for popular movies?\n",
    "We need to look at the movie genres and runtimes \n"
   ]
  },
  {
   "cell_type": "markdown",
   "metadata": {},
   "source": [
    "#### A). Most popular movie genres "
   ]
  },
  {
   "cell_type": "code",
   "execution_count": 171,
   "metadata": {},
   "outputs": [
    {
     "data": {
      "text/plain": [
       "Drama                                                                   570\n",
       "Comedy                                                                  347\n",
       "Action and Adventure|Mystery and Suspense                               208\n",
       "Comedy|Drama                                                            206\n",
       "Art House and International|Drama|Musical and Performing Arts           156\n",
       "Comedy|Kids and Family|Romance                                          147\n",
       "Action and Adventure                                                    108\n",
       "Comedy|Mystery and Suspense|Science Fiction and Fantasy|Romance          98\n",
       "Comedy|Kids and Family                                                   53\n",
       "Action and Adventure|Classics|Drama                                      53\n",
       "Mystery and Suspense                                                     52\n",
       "Classics|Comedy|Musical and Performing Arts|Romance                      52\n",
       "Action and Adventure|Art House and International|Drama                   52\n",
       "Comedy|Romance                                                           52\n",
       "Comedy|Musical and Performing Arts                                       52\n",
       "Drama|Science Fiction and Fantasy                                        52\n",
       "Art House and International|Comedy|Drama|Musical and Performing Arts     50\n",
       "Drama|Sports and Fitness                                                 48\n",
       "Name: genre, dtype: int64"
      ]
     },
     "execution_count": 171,
     "metadata": {},
     "output_type": "execute_result"
    }
   ],
   "source": [
    "genre_count = df_modified_merged['genre'].value_counts()\n",
    "genre_count"
   ]
  },
  {
   "cell_type": "code",
   "execution_count": 172,
   "metadata": {},
   "outputs": [
    {
     "data": {
      "text/plain": [
       "Drama                                                              570\n",
       "Comedy                                                             347\n",
       "Action and Adventure|Mystery and Suspense                          208\n",
       "Comedy|Drama                                                       206\n",
       "Art House and International|Drama|Musical and Performing Arts      156\n",
       "Comedy|Kids and Family|Romance                                     147\n",
       "Action and Adventure                                               108\n",
       "Comedy|Mystery and Suspense|Science Fiction and Fantasy|Romance     98\n",
       "Name: genre, dtype: int64"
      ]
     },
     "execution_count": 172,
     "metadata": {},
     "output_type": "execute_result"
    }
   ],
   "source": [
    "#create a dataFrame of popular_genres\n",
    "#sort the genre_count dataframe by count in descending order\n",
    "popular_genres = genre_count.sort_values(ascending=False).head(8)\n",
    "popular_genres"
   ]
  },
  {
   "cell_type": "markdown",
   "metadata": {},
   "source": [
    "#### B. Runtimes per genre"
   ]
  },
  {
   "cell_type": "code",
   "execution_count": 173,
   "metadata": {},
   "outputs": [
    {
     "name": "stdout",
     "output_type": "stream",
     "text": [
      "genre\n",
      "Action and Adventure|Classics|Drama                                    165.00\n",
      "Action and Adventure|Mystery and Suspense                              123.00\n",
      "Drama                                                                  122.63\n",
      "Comedy|Drama                                                           120.29\n",
      "Art House and International|Drama|Musical and Performing Arts          117.00\n",
      "Drama|Sports and Fitness                                               116.00\n",
      "Action and Adventure                                                   115.00\n",
      "Comedy|Mystery and Suspense|Science Fiction and Fantasy|Romance        113.00\n",
      "Action and Adventure|Art House and International|Drama                 110.00\n",
      "Comedy|Kids and Family|Romance                                         108.00\n",
      "Drama|Science Fiction and Fantasy                                      108.00\n",
      "Mystery and Suspense                                                   108.00\n",
      "Comedy                                                                 105.18\n",
      "Art House and International|Comedy|Drama|Musical and Performing Arts    96.00\n",
      "Comedy|Kids and Family                                                  92.00\n",
      "Comedy|Musical and Performing Arts                                      91.00\n",
      "Classics|Comedy|Musical and Performing Arts|Romance                     90.00\n",
      "Comedy|Romance                                                          86.00\n",
      "Name: runtime, dtype: float64\n"
     ]
    }
   ],
   "source": [
    "#group the movies by genre\n",
    "#calculate the mean/ average  runtime  per each genre\n",
    "#Then sort values to see the figures in descending order\n",
    "genre_runtimes = df_modified_merged.groupby('genre')['runtime'].mean().sort_values(ascending=False)\n",
    "print(genre_runtimes)"
   ]
  },
  {
   "cell_type": "markdown",
   "metadata": {},
   "source": [
    "#### Most popular movie genres"
   ]
  },
  {
   "cell_type": "code",
   "execution_count": 174,
   "metadata": {},
   "outputs": [
    {
     "data": {
      "image/png": "[encoded data removed]",
      "text/plain": [
       "<Figure size 720x432 with 1 Axes>"
      ]
     },
     "metadata": {
      "needs_background": "light"
     },
     "output_type": "display_data"
    }
   ],
   "source": [
    "# create a horizontal bar plot of the top 8 genres\n",
    "sns.set_style()\n",
    "plt.figure(figsize=(10,6))\n",
    "\n",
    "ax = sns.barplot(x=popular_genres.values, y=popular_genres.index, palette='Blues_r')\n",
    "\n",
    "# set the x , y axis label and rotate the tick labels\n",
    "ax.set_xlabel('Number of Movies')\n",
    "plt.xticks(rotation=90)\n",
    "ax.set_ylabel('Genre')\n",
    "ax.set_title('Top 8 Most Popular Movie Genres')\n",
    "\n",
    "plt.show()"
   ]
  },
  {
   "cell_type": "markdown",
   "metadata": {},
   "source": [
    "#### Distribution of runtime"
   ]
  },
  {
   "cell_type": "code",
   "execution_count": 175,
   "metadata": {},
   "outputs": [
    {
     "data": {
      "image/png": "[encoded data removed]",
      "text/plain": [
       "<Figure size 432x288 with 1 Axes>"
      ]
     },
     "metadata": {
      "needs_background": "light"
     },
     "output_type": "display_data"
    }
   ],
   "source": [
    "# create a histogram of movie runtimes using seaborn with a KDE curve\n",
    "sns.histplot(data = df_modified_merged.runtime,color = 'black', kde = True)\n",
    "\n",
    "# set the plot title, x-axis label, y-axis label\n",
    "plt.title('Distribution of Movie Runtimes')\n",
    "plt.xlabel('Runtime in minutes')\n",
    "plt.ylabel('Number of Movies')\n",
    "\n",
    "# display the plot\n",
    "plt.show()"
   ]
  },
  {
   "cell_type": "markdown",
   "metadata": {},
   "source": [
    "##### Top 8 Genres by Average Runtime"
   ]
  },
  {
   "cell_type": "code",
   "execution_count": 176,
   "metadata": {},
   "outputs": [
    {
     "data": {
      "image/png": "[encoded data removed]",
      "text/plain": [
       "<Figure size 432x288 with 1 Axes>"
      ]
     },
     "metadata": {
      "needs_background": "light"
     },
     "output_type": "display_data"
    },
    {
     "data": {
      "text/plain": [
       "<Figure size 720x432 with 0 Axes>"
      ]
     },
     "metadata": {},
     "output_type": "display_data"
    }
   ],
   "source": [
    "# calculate the average runtime for each genre, sort by descending order, and select the top 8\n",
    "genre_runtimes = df_modified_merged.groupby('genre')['runtime'].mean().sort_values(ascending=False).head(8)\n",
    "\n",
    "# create a horizontal bar plot using seaborn\n",
    "sns.barplot(x=genre_runtimes, y=genre_runtimes.index, palette='GnBu')\n",
    "\n",
    "# set the plot title, x-axis label, and y-axis label\n",
    "plt.title('Top 8 Genres by Average Runtime')\n",
    "plt.xlabel('Average Runtime (minutes)')\n",
    "plt.ylabel('Genre')\n",
    "\n",
    "# set the figure size\n",
    "plt.figure(figsize=(10,6))\n",
    "\n",
    "# display the plot\n",
    "plt.show()\n"
   ]
  },
  {
   "cell_type": "markdown",
   "metadata": {},
   "source": [
    "##### What is the relationship between a movie's production budget and the revenue made?"
   ]
  },
  {
   "cell_type": "markdown",
   "metadata": {},
   "source": [
    "its an expectation that movies with higher production budgets will generate higher revenues, but this relationship is not always straightforward. A movie's success is influenced by various factors, such as the quality of the script, the skill of the director, the popularity of the actors, and the timing of the release, among others. \n",
    "\n",
    "To identify the relationship between the production budget and revenue in our data set we can create a scatter plot of budget vs revenues. \n",
    "\n",
    "This would allows us to inspect trends  and patterns.\n",
    "We can also quantify the return on investment (ROI) for each movie. This can be calculated as the ratio of worldwide gross revenue to production budget.\n",
    "\n",
    "in the process this would allow us to compare the profitability of movies with different budgets and revenue levels.\n",
    "\n"
   ]
  },
  {
   "cell_type": "markdown",
   "metadata": {},
   "source": [
    "##### Production budget vs. worldwide gross revenue"
   ]
  },
  {
   "cell_type": "code",
   "execution_count": 177,
   "metadata": {},
   "outputs": [
    {
     "data": {
      "image/png": "[encoded data removed]",
      "text/plain": [
       "<Figure size 432x288 with 1 Axes>"
      ]
     },
     "metadata": {
      "needs_background": "light"
     },
     "output_type": "display_data"
    }
   ],
   "source": [
    "#Create a scatter plot of production budget vs. worldwide gross revenue\n",
    "# create a scatter plot using seaborn\n",
    "sns.scatterplot(x='production_budget_usd', y='worldwide_gross_usd', data=df_modified_merged, color='green')\n",
    "\n",
    "# set the plot title, x-axis label, and y-axis label\n",
    "plt.title('Production Budget vs. Worldwide Gross Revenue')\n",
    "plt.xlabel('Budget (USD)')\n",
    "plt.ylabel('Gross Revenue (USD)')\n",
    "\n",
    "# display the plot\n",
    "plt.show()\n"
   ]
  },
  {
   "cell_type": "markdown",
   "metadata": {},
   "source": [
    "It can be noted, that not always that movies with higher production budgets will generate high revenues.  \n",
    "For Example : Movies with a budget of USD 1.5 Million dollars had varying revenues. Meaning other factors were in play.\n"
   ]
  },
  {
   "cell_type": "markdown",
   "metadata": {},
   "source": [
    "#### Movies based on ROI "
   ]
  },
  {
   "cell_type": "code",
   "execution_count": 178,
   "metadata": {},
   "outputs": [],
   "source": [
    "#seems we have an outlier in the data \n",
    "# Remove outlier from dataframe by create a new dataframe \n",
    "#that contains all rows from df_modified_merged where the ROI value is less than 150.\n",
    "df_modified_merged = df_modified_merged[df_modified_merged['ROI'] <=150]"
   ]
  },
  {
   "cell_type": "code",
   "execution_count": 179,
   "metadata": {},
   "outputs": [],
   "source": [
    "#Identify the top 1000 movies based of their Return on investment\n",
    "df_top_1000 = df_modified_merged.sort_values(by='ROI', ascending=False).head(1000)\n"
   ]
  },
  {
   "cell_type": "code",
   "execution_count": 180,
   "metadata": {},
   "outputs": [
    {
     "data": {
      "image/png": "[encoded data removed]",
      "text/plain": [
       "<Figure size 432x288 with 1 Axes>"
      ]
     },
     "metadata": {
      "needs_background": "light"
     },
     "output_type": "display_data"
    }
   ],
   "source": [
    "# Create a seaborn scatter plot of ROI vs. production budget \n",
    "sns.scatterplot(x='production_budget_usd', y='ROI', data=df_top_1000, color='blue')\n",
    "\n",
    "# set the plot title, x-axis label, and y-axis label\n",
    "plt.title('ROI vs Production Budget')\n",
    "plt.xlabel('Production Budget (USD)')\n",
    "plt.ylabel('ROI')\n",
    "\n",
    "# display the plot\n",
    "plt.show()"
   ]
  },
  {
   "cell_type": "markdown",
   "metadata": {},
   "source": [
    "it can be noted from above that the Return on investment (ROI) is not guaranteed by the production budget used . \n",
    "\n",
    "The scatter plot shows very little correlation between the ROI and investment put in. \n"
   ]
  },
  {
   "cell_type": "markdown",
   "metadata": {},
   "source": [
    "##### How do movie ratings and reviews impact the overal revenue?\n"
   ]
  },
  {
   "cell_type": "code",
   "execution_count": 181,
   "metadata": {},
   "outputs": [
    {
     "data": {
      "text/plain": [
       "-0.01802876105675924"
      ]
     },
     "execution_count": 181,
     "metadata": {},
     "output_type": "execute_result"
    }
   ],
   "source": [
    "corr_coef = np.corrcoef(df_modified_merged['worldwide_gross_usd'], df_modified_merged['rating_y'])[0, 1]\n",
    "corr_coef"
   ]
  },
  {
   "cell_type": "markdown",
   "metadata": {},
   "source": [
    "* The value of -0.018358351301180985 indicates a very weak negative correlation between the two variables. \n",
    "* This means that there is a slight tendency for movies with higher ratings to have slightly lower worldwide gross revenue, but the relationship is not very strong."
   ]
  },
  {
   "cell_type": "markdown",
   "metadata": {},
   "source": [
    "* A weak and negative correlation was observed between this 2 variables \n",
    "\n",
    "Movies will little to no revenue gathered as many ratings as movies with higher revenues.\n",
    "\n",
    "Movies with higher revenues gathered less ratings than would have been expected. \n"
   ]
  },
  {
   "cell_type": "code",
   "execution_count": 182,
   "metadata": {},
   "outputs": [
    {
     "data": {
      "image/png": "[encoded data removed]",
      "text/plain": [
       "<Figure size 432x288 with 1 Axes>"
      ]
     },
     "metadata": {
      "needs_background": "light"
     },
     "output_type": "display_data"
    }
   ],
   "source": [
    "# create a scatter plot of Revenue vs. Ratings\n",
    "sns.scatterplot(x='worldwide_gross_usd', y= 'rating_y', data=df_modified_merged,color = 'black')\n",
    "\n",
    "# set the x-axis label and rotate the tick labels\n",
    "plt.xlabel('Worldwide Gross Revenue (USD)')\n",
    "\n",
    "# set the y-axis label\n",
    "plt.ylabel('Rating')\n",
    "\n",
    "# set the title of the plot\n",
    "plt.title('Worldwide Gross Revenue Vs. Rating')\n",
    "\n",
    "# display the plot\n",
    "plt.show()"
   ]
  },
  {
   "cell_type": "markdown",
   "metadata": {},
   "source": [
    "##### is there a correlation between production budgets and ratings? "
   ]
  },
  {
   "cell_type": "code",
   "execution_count": 183,
   "metadata": {},
   "outputs": [
    {
     "data": {
      "text/plain": [
       "0.007785645101974284"
      ]
     },
     "execution_count": 183,
     "metadata": {},
     "output_type": "execute_result"
    }
   ],
   "source": [
    "corr_coef = np.corrcoef(df_modified_merged['production_budget_usd'], df_modified_merged['rating_y'])[0, 1]\n",
    "corr_coef"
   ]
  },
  {
   "cell_type": "markdown",
   "metadata": {},
   "source": [
    "* The value of 0.0071651084685253495 indicates a very weak positive correlation between the two variables. \n",
    "* This means that there is a slight tendency for movies with higher production budgets to have slightly higher ratings, but the relationship is not very strong.\n",
    "* lets plot and see."
   ]
  },
  {
   "cell_type": "code",
   "execution_count": 184,
   "metadata": {},
   "outputs": [
    {
     "data": {
      "image/png": "[encoded data removed]",
      "text/plain": [
       "<Figure size 432x288 with 1 Axes>"
      ]
     },
     "metadata": {
      "needs_background": "light"
     },
     "output_type": "display_data"
    }
   ],
   "source": [
    "# create a scatter plot of Revenue vs. Ratings\n",
    "sns.scatterplot(x='production_budget_usd', y= 'rating_y', data=df_modified_merged)\n",
    "\n",
    "# set the x-axis label and rotate the tick labels\n",
    "plt.xlabel('Production_Budget(USD)')\n",
    "\n",
    "# set the y-axis label\n",
    "plt.ylabel('Ratings')\n",
    "\n",
    "# set the title of the plot\n",
    "plt.title('Production Budget Vs. Ratings')\n",
    "\n",
    "# display the plot\n",
    "plt.show()"
   ]
  },
  {
   "cell_type": "markdown",
   "metadata": {},
   "source": [
    "## SUMMARY OF RESULTS"
   ]
  },
  {
   "cell_type": "markdown",
   "metadata": {},
   "source": [
    "After analyzing the DataFrame df_modified_merged, several interesting results were found.\n",
    " \n",
    " * The average runtime for movies in the dataset was 114  minutes.\n",
    " \n",
    " * No movie had a runtime of less than 82 min\n",
    " \n",
    " * The Average movie production budget spent by movie makers in this dataset was 34.6 Million however, majority of movies spent between USD 7 million and USD 45 million.\n",
    " \n",
    " * The highest budget amount was USD 350 Million.\n",
    " \n",
    " * A movie's worldwide revenue can range from USD 7 Million to USD 103 Million for majority of the movie makers however, one movie maker made as low as USD 527\n",
    " \n",
    " * The highest worldwide gross revenue registered was USD 1.65Billion.\n",
    " \n",
    " * Drama genre was the most popular genre with over 500 number of movies followed by Comedy with 350.\n",
    " \n",
    " * Action & Adventure|Classics| Drama had the highest average runtime among all the genres present. \n",
    " \n",
    "* Drama came third followed by Comedy|Drama which were very near the mean of 114 minutes.\n",
    "\n",
    "* On carrying out the bivariant analysis:\n",
    "   * It was concluded that higher production budgets will not always guarantee  high revenues or return on investment.\n",
    "   \n",
    "   * There is a negative weak correlation observed between worldwide gross revenue and ratings.\n",
    "   \n",
    "   * A slight tendency was noted on movies with higher production budgets to have slightly higher ratings, but the relationship is not very strong.\n",
    "\n",
    "\n",
    " "
   ]
  },
  {
   "cell_type": "markdown",
   "metadata": {},
   "source": [
    "## RECOMMENDATIONS TO CONSIDER:  \n",
    "\n",
    "##### Genre  and Runtime\n",
    "* To Invest in drama and comedy movies as they are the most popular genres.\n",
    "* To Keep in mind the appropriate length of each movie . The average mean is 114 minutes\n",
    "\n",
    "##### Budgets & Ratings\n",
    "* Although the average production budget spent by movie makers in this dataset was 34.6 Million, consider that the majority of movies spent between USD 7 million and USD 45 million. \n",
    "* This means a lower budget can always be utilized. \n",
    "* Microsoft should not solely rely on higher production budgets as a guarantee for higher ratings or revenues.\n",
    "\n",
    "##### Revenue & Ratings\n",
    "* Microsoft should keep in mind that there is a weak negative correlation between worldwide gross revenue and movie ratings.\n",
    "* This means that having high ratings does not necessarily guarantee high revenues.\n",
    "* Thus should not rely heavily on ratings.\n"
   ]
  },
  {
   "cell_type": "markdown",
   "metadata": {},
   "source": [
    "## CONCLUSION\n",
    "\n",
    "Finally, Microsoft should keep in mind that while the majority of movies in the dataset generated between USD 7 Million and USD 103 Million in worldwide revenue, the highest worldwide gross revenue registered was USD 1.65 Billion. \n",
    "Therefore, it is important to remain open to the possibility of high revenue generation, and not limit investment opportunities based on past revenue trends.\n"
   ]
  },
  {
   "cell_type": "code",
   "execution_count": null,
   "metadata": {},
   "outputs": [],
   "source": []
  }
 ],
 "metadata": {
  "kernelspec": {
   "display_name": "Python 3",
   "language": "python",
   "name": "python3"
  },
  "language_info": {
   "codemirror_mode": {
    "name": "ipython",
    "version": 3
   },
   "file_extension": ".py",
   "mimetype": "text/x-python",
   "name": "python",
   "nbconvert_exporter": "python",
   "pygments_lexer": "ipython3",
   "version": "3.8.5"
  }
 },
 "nbformat": 4,
 "nbformat_minor": 2
}
